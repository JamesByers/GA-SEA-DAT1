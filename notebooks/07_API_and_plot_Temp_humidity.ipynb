{
 "cells": [
  {
   "cell_type": "markdown",
   "metadata": {
    "collapsed": false
   },
   "source": [
    "### Retrieve and plot temperature and humidity data - 7 day chart by hour\n",
    "* as measured by an ESP8266 with DHT11 sensor logging to the cloud\n",
    "* data retrieved from the sensor's web data logger https://data.sparkfun.com/streams/WGxYrADdZbf621yMD7O9\n",
    "<br>"
   ]
  },
  {
   "cell_type": "code",
   "execution_count": 3,
   "metadata": {
    "collapsed": false,
    "scrolled": true
   },
   "outputs": [
    {
     "ename": "SyntaxError",
     "evalue": "invalid syntax (<ipython-input-3-794218af7840>, line 27)",
     "output_type": "error",
     "traceback": [
      "\u001b[0;36m  File \u001b[0;32m\"<ipython-input-3-794218af7840>\"\u001b[0;36m, line \u001b[0;32m27\u001b[0m\n\u001b[0;31m    %%javascript\u001b[0m\n\u001b[0m    ^\u001b[0m\n\u001b[0;31mSyntaxError\u001b[0m\u001b[0;31m:\u001b[0m invalid syntax\n"
     ]
    }
   ],
   "source": [
    "# -*- coding: utf-8 -*-\n",
    "'''\n",
    "Created on 2015-16-15\n",
    "\n",
    "@author: jim_byers\n",
    "\n",
    "'''\n",
    "'''\n",
    "Pulls 7 days of data from web log of sensor, aggregates the readings into mean\n",
    "per hr and then plots the results\n",
    "\n",
    "Note that the data pull will take 5 or more seconds since the data is not prefetched\n",
    "\n",
    "'''\n",
    "\n",
    "# import time\n",
    "import pandas as pd\n",
    "import matplotlib.pyplot as plt\n",
    "\n",
    "\n",
    "plt.switch_backend('Qt4Agg')  \n",
    "# display plots in the notebook\n",
    "%matplotlib inline\n",
    "# display plots in separate window.  Appears under main window\n",
    "#%matplotlib qt\n",
    "\n",
    "# %%javascript\n",
    "# IPython.OutputArea.auto_scroll_threshold = 9999; # set output window to larger size\n",
    " \n",
    "# increase default figure and font sizes for easier viewing\n",
    "plt.rcParams['figure.figsize'] = (10, 8)\n",
    "plt.rcParams['font.size'] = 14\n",
    "plt.style.use('fivethirtyeight')\n",
    "\n",
    "def get_data(url):\n",
    "    data = pd.read_csv(url, engine='python')\n",
    "    # Clean up data\n",
    "    data['timestamp'] = pd.to_datetime(data.timestamp)\n",
    "    data['temperature'] = data['temperature'].str.replace(' ', '').astype('float64')\n",
    "    data['timestamp'] = data.timestamp + pd.Timedelta(hours=-8)\n",
    "    data['humidity'] = data['humidity'].str.replace(' ', '').astype('float64')\n",
    "    return data\n",
    "\n",
    "#url = 'https://data.sparkfun.com/output/WGxYrADdZbf621yMD7O9?page=1'\n",
    "url = 'https://data.sparkfun.com/output/WGxYrADdZbf621yMD7O9?gt[timestamp]=now%20-7day'\n",
    "data = get_data(url)\n",
    "data['timestamp_hr_resolution'] = data['timestamp'].values.astype('<M8[h]')\n",
    "\n",
    "# create plot figure and plot axes\n",
    "fig1 = plt.figure()\n",
    "ax = plt.axes(xlim=(data.timestamp.min(),data.timestamp.max()), ylim=(20,100))\n",
    "labels = ax.get_xticklabels() \n",
    "for label in labels: \n",
    "    label.set_rotation(30) \n",
    "line, = ax.plot([], [], lw=1)\n",
    "\n",
    "plt.suptitle(\"Temperature and humidity, Jim's home office - 7 day chart\", fontsize=18)\n",
    "plt.title('measured by an ESP8266 with DHT11 sensor logging to the cloud', fontsize=10)\n",
    "plt.xlabel('PST')\n",
    "plt.setp(line, linewidth=1.0)\n",
    "\n",
    "#x = data.timestamp\n",
    "x = pd.Series(pd.unique(data.timestamp_hr_resolution))\n",
    "y1 = data.groupby(data.timestamp_hr_resolution).mean().humidity\n",
    "y2 = data.groupby(data.timestamp_hr_resolution).mean().temperature\n",
    "\n",
    "# plot humidity line\n",
    "line.set_data(x, y1)\n",
    "h, =plt.plot(x, y1, 'b')\n",
    "# plot temperature line\n",
    "line.set_data(x, y2)\n",
    "t, =plt.plot(x, y2,'g')\n",
    "plt.legend([t, h], ['Temperature', 'Humidity'])\n",
    "plt.show()\n"
   ]
  }
 ],
 "metadata": {
  "kernelspec": {
   "display_name": "Python 2",
   "language": "python",
   "name": "python2"
  },
  "language_info": {
   "codemirror_mode": {
    "name": "ipython",
    "version": 2
   },
   "file_extension": ".py",
   "mimetype": "text/x-python",
   "name": "python",
   "nbconvert_exporter": "python",
   "pygments_lexer": "ipython2",
   "version": "2.7.10"
  }
 },
 "nbformat": 4,
 "nbformat_minor": 0
}
