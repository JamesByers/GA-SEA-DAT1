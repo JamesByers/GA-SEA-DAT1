{
 "cells": [
  {
   "cell_type": "markdown",
   "metadata": {},
   "source": [
    "# Working with Text Data and Naive Bayes in scikit-learn"
   ]
  },
  {
   "cell_type": "markdown",
   "metadata": {},
   "source": [
    "## Agenda\n",
    "\n",
    "**Working with text data**\n",
    "\n",
    "- Representing text as data\n",
    "- Reading SMS data\n",
    "- Vectorizing SMS data\n",
    "- Examining the tokens and their counts\n",
    "- Bonus: Calculating the \"spamminess\" of each token\n",
    "\n",
    "**Naive Bayes classification**\n",
    "\n",
    "- Building a Naive Bayes model\n",
    "- Comparing Naive Bayes with logistic regression"
   ]
  },
  {
   "cell_type": "markdown",
   "metadata": {},
   "source": [
    "## Part 1: Representing text as data\n",
    "\n",
    "From the [scikit-learn documentation](http://scikit-learn.org/stable/modules/feature_extraction.html#text-feature-extraction):\n",
    "\n",
    "> Text Analysis is a major application field for machine learning algorithms. However the raw data, a sequence of symbols cannot be fed directly to the algorithms themselves as most of them expect **numerical feature vectors with a fixed size** rather than the **raw text documents with variable length**.\n",
    "\n",
    "We will use [CountVectorizer](http://scikit-learn.org/stable/modules/generated/sklearn.feature_extraction.text.CountVectorizer.html) to \"convert text into a matrix of token counts\":"
   ]
  },
  {
   "cell_type": "code",
   "execution_count": 1,
   "metadata": {
    "collapsed": true
   },
   "outputs": [],
   "source": [
    "from sklearn.feature_extraction.text import CountVectorizer"
   ]
  },
  {
   "cell_type": "code",
   "execution_count": 2,
   "metadata": {
    "collapsed": true
   },
   "outputs": [],
   "source": [
    "# start with a simple example\n",
    "simple_train = ['call you tonight', 'Call me a cab', 'please call me... PLEASE!']"
   ]
  },
  {
   "cell_type": "code",
   "execution_count": 3,
   "metadata": {
    "collapsed": false
   },
   "outputs": [
    {
     "data": {
      "text/plain": [
       "[u'cab', u'call', u'me', u'please', u'tonight', u'you']"
      ]
     },
     "execution_count": 3,
     "metadata": {},
     "output_type": "execute_result"
    }
   ],
   "source": [
    "# learn the 'vocabulary' of the training data\n",
    "vect = CountVectorizer()\n",
    "vect.fit(simple_train)\n",
    "vect.get_feature_names()"
   ]
  },
  {
   "cell_type": "code",
   "execution_count": 4,
   "metadata": {
    "collapsed": false
   },
   "outputs": [
    {
     "data": {
      "text/plain": [
       "<3x6 sparse matrix of type '<type 'numpy.int64'>'\n",
       "\twith 9 stored elements in Compressed Sparse Row format>"
      ]
     },
     "execution_count": 4,
     "metadata": {},
     "output_type": "execute_result"
    }
   ],
   "source": [
    "# transform training data into a 'document-term matrix'\n",
    "simple_train_dtm = vect.transform(simple_train)\n",
    "simple_train_dtm"
   ]
  },
  {
   "cell_type": "code",
   "execution_count": 5,
   "metadata": {
    "collapsed": false
   },
   "outputs": [
    {
     "name": "stdout",
     "output_type": "stream",
     "text": [
      "  (0, 1)\t1\n",
      "  (0, 4)\t1\n",
      "  (0, 5)\t1\n",
      "  (1, 0)\t1\n",
      "  (1, 1)\t1\n",
      "  (1, 2)\t1\n",
      "  (2, 1)\t1\n",
      "  (2, 2)\t1\n",
      "  (2, 3)\t2\n"
     ]
    }
   ],
   "source": [
    "# print the sparse matrix\n",
    "print simple_train_dtm"
   ]
  },
  {
   "cell_type": "code",
   "execution_count": 6,
   "metadata": {
    "collapsed": false
   },
   "outputs": [
    {
     "data": {
      "text/plain": [
       "array([[0, 1, 0, 0, 1, 1],\n",
       "       [1, 1, 1, 0, 0, 0],\n",
       "       [0, 1, 1, 2, 0, 0]])"
      ]
     },
     "execution_count": 6,
     "metadata": {},
     "output_type": "execute_result"
    }
   ],
   "source": [
    "# convert sparse matrix to a dense matrix\n",
    "simple_train_dtm.toarray()"
   ]
  },
  {
   "cell_type": "code",
   "execution_count": 7,
   "metadata": {
    "collapsed": false
   },
   "outputs": [
    {
     "data": {
      "text/html": [
       "<div>\n",
       "<table border=\"1\" class=\"dataframe\">\n",
       "  <thead>\n",
       "    <tr style=\"text-align: right;\">\n",
       "      <th></th>\n",
       "      <th>cab</th>\n",
       "      <th>call</th>\n",
       "      <th>me</th>\n",
       "      <th>please</th>\n",
       "      <th>tonight</th>\n",
       "      <th>you</th>\n",
       "    </tr>\n",
       "  </thead>\n",
       "  <tbody>\n",
       "    <tr>\n",
       "      <th>0</th>\n",
       "      <td>0</td>\n",
       "      <td>1</td>\n",
       "      <td>0</td>\n",
       "      <td>0</td>\n",
       "      <td>1</td>\n",
       "      <td>1</td>\n",
       "    </tr>\n",
       "    <tr>\n",
       "      <th>1</th>\n",
       "      <td>1</td>\n",
       "      <td>1</td>\n",
       "      <td>1</td>\n",
       "      <td>0</td>\n",
       "      <td>0</td>\n",
       "      <td>0</td>\n",
       "    </tr>\n",
       "    <tr>\n",
       "      <th>2</th>\n",
       "      <td>0</td>\n",
       "      <td>1</td>\n",
       "      <td>1</td>\n",
       "      <td>2</td>\n",
       "      <td>0</td>\n",
       "      <td>0</td>\n",
       "    </tr>\n",
       "  </tbody>\n",
       "</table>\n",
       "</div>"
      ],
      "text/plain": [
       "   cab  call  me  please  tonight  you\n",
       "0    0     1   0       0        1    1\n",
       "1    1     1   1       0        0    0\n",
       "2    0     1   1       2        0    0"
      ]
     },
     "execution_count": 7,
     "metadata": {},
     "output_type": "execute_result"
    }
   ],
   "source": [
    "# examine the vocabulary and document-term matrix together\n",
    "import pandas as pd\n",
    "pd.DataFrame(simple_train_dtm.toarray(), columns=vect.get_feature_names())"
   ]
  },
  {
   "cell_type": "markdown",
   "metadata": {},
   "source": [
    "From the [scikit-learn documentation](http://scikit-learn.org/stable/modules/feature_extraction.html#text-feature-extraction):\n",
    "\n",
    "> In this scheme, features and samples are defined as follows:\n",
    "\n",
    "> - Each individual token occurrence frequency (normalized or not) is treated as a **feature**.\n",
    "> - The vector of all the token frequencies for a given document is considered a multivariate **sample**.\n",
    "\n",
    "> A **corpus of documents** can thus be represented by a matrix with **one row per document** and **one column per token** (e.g. word) occurring in the corpus.\n",
    "\n",
    "> We call **vectorization** the general process of turning a collection of text documents into numerical feature vectors. This specific strategy (tokenization, counting and normalization) is called the **Bag of Words** or \"Bag of n-grams\" representation. Documents are described by word occurrences while completely ignoring the relative position information of the words in the document."
   ]
  },
  {
   "cell_type": "code",
   "execution_count": 8,
   "metadata": {
    "collapsed": false
   },
   "outputs": [
    {
     "data": {
      "text/plain": [
       "array([[0, 1, 1, 1, 0, 0]])"
      ]
     },
     "execution_count": 8,
     "metadata": {},
     "output_type": "execute_result"
    }
   ],
   "source": [
    "# transform testing data into a document-term matrix (using existing vocabulary)\n",
    "simple_test = [\"please don't call me\"]\n",
    "simple_test_dtm = vect.transform(simple_test)\n",
    "simple_test_dtm.toarray()"
   ]
  },
  {
   "cell_type": "code",
   "execution_count": 9,
   "metadata": {
    "collapsed": false
   },
   "outputs": [
    {
     "data": {
      "text/html": [
       "<div>\n",
       "<table border=\"1\" class=\"dataframe\">\n",
       "  <thead>\n",
       "    <tr style=\"text-align: right;\">\n",
       "      <th></th>\n",
       "      <th>cab</th>\n",
       "      <th>call</th>\n",
       "      <th>me</th>\n",
       "      <th>please</th>\n",
       "      <th>tonight</th>\n",
       "      <th>you</th>\n",
       "    </tr>\n",
       "  </thead>\n",
       "  <tbody>\n",
       "    <tr>\n",
       "      <th>0</th>\n",
       "      <td>0</td>\n",
       "      <td>1</td>\n",
       "      <td>1</td>\n",
       "      <td>1</td>\n",
       "      <td>0</td>\n",
       "      <td>0</td>\n",
       "    </tr>\n",
       "  </tbody>\n",
       "</table>\n",
       "</div>"
      ],
      "text/plain": [
       "   cab  call  me  please  tonight  you\n",
       "0    0     1   1       1        0    0"
      ]
     },
     "execution_count": 9,
     "metadata": {},
     "output_type": "execute_result"
    }
   ],
   "source": [
    "# examine the vocabulary and document-term matrix together\n",
    "pd.DataFrame(simple_test_dtm.toarray(), columns=vect.get_feature_names())"
   ]
  },
  {
   "cell_type": "markdown",
   "metadata": {},
   "source": [
    "**Summary:**\n",
    "\n",
    "- `vect.fit(train)` learns the vocabulary of the training data\n",
    "- `vect.transform(train)` uses the fitted vocabulary to build a document-term matrix from the training data\n",
    "- `vect.transform(test)` uses the fitted vocabulary to build a document-term matrix from the testing data (and ignores tokens it hasn't seen before)"
   ]
  },
  {
   "cell_type": "markdown",
   "metadata": {},
   "source": [
    "## Part 2: Reading SMS data"
   ]
  },
  {
   "cell_type": "code",
   "execution_count": 10,
   "metadata": {
    "collapsed": false
   },
   "outputs": [
    {
     "name": "stdout",
     "output_type": "stream",
     "text": [
      "(5572, 2)\n"
     ]
    }
   ],
   "source": [
    "# read tab-separated file\n",
    "path = '/Users/jim_byers/Documents/GA/GA_Data_Science_course/SEA-DAT1/data/'\n",
    "url = path + 'sms.tsv'\n",
    "col_names = ['label', 'message']\n",
    "sms = pd.read_table(url, sep='\\t', header=None, names=col_names)\n",
    "print sms.shape"
   ]
  },
  {
   "cell_type": "code",
   "execution_count": 11,
   "metadata": {
    "collapsed": false
   },
   "outputs": [
    {
     "data": {
      "text/html": [
       "<div>\n",
       "<table border=\"1\" class=\"dataframe\">\n",
       "  <thead>\n",
       "    <tr style=\"text-align: right;\">\n",
       "      <th></th>\n",
       "      <th>label</th>\n",
       "      <th>message</th>\n",
       "    </tr>\n",
       "  </thead>\n",
       "  <tbody>\n",
       "    <tr>\n",
       "      <th>0</th>\n",
       "      <td>ham</td>\n",
       "      <td>Go until jurong point, crazy.. Available only ...</td>\n",
       "    </tr>\n",
       "    <tr>\n",
       "      <th>1</th>\n",
       "      <td>ham</td>\n",
       "      <td>Ok lar... Joking wif u oni...</td>\n",
       "    </tr>\n",
       "    <tr>\n",
       "      <th>2</th>\n",
       "      <td>spam</td>\n",
       "      <td>Free entry in 2 a wkly comp to win FA Cup fina...</td>\n",
       "    </tr>\n",
       "    <tr>\n",
       "      <th>3</th>\n",
       "      <td>ham</td>\n",
       "      <td>U dun say so early hor... U c already then say...</td>\n",
       "    </tr>\n",
       "    <tr>\n",
       "      <th>4</th>\n",
       "      <td>ham</td>\n",
       "      <td>Nah I don't think he goes to usf, he lives aro...</td>\n",
       "    </tr>\n",
       "    <tr>\n",
       "      <th>5</th>\n",
       "      <td>spam</td>\n",
       "      <td>FreeMsg Hey there darling it's been 3 week's n...</td>\n",
       "    </tr>\n",
       "    <tr>\n",
       "      <th>6</th>\n",
       "      <td>ham</td>\n",
       "      <td>Even my brother is not like to speak with me. ...</td>\n",
       "    </tr>\n",
       "    <tr>\n",
       "      <th>7</th>\n",
       "      <td>ham</td>\n",
       "      <td>As per your request 'Melle Melle (Oru Minnamin...</td>\n",
       "    </tr>\n",
       "    <tr>\n",
       "      <th>8</th>\n",
       "      <td>spam</td>\n",
       "      <td>WINNER!! As a valued network customer you have...</td>\n",
       "    </tr>\n",
       "    <tr>\n",
       "      <th>9</th>\n",
       "      <td>spam</td>\n",
       "      <td>Had your mobile 11 months or more? U R entitle...</td>\n",
       "    </tr>\n",
       "    <tr>\n",
       "      <th>10</th>\n",
       "      <td>ham</td>\n",
       "      <td>I'm gonna be home soon and i don't want to tal...</td>\n",
       "    </tr>\n",
       "    <tr>\n",
       "      <th>11</th>\n",
       "      <td>spam</td>\n",
       "      <td>SIX chances to win CASH! From 100 to 20,000 po...</td>\n",
       "    </tr>\n",
       "    <tr>\n",
       "      <th>12</th>\n",
       "      <td>spam</td>\n",
       "      <td>URGENT! You have won a 1 week FREE membership ...</td>\n",
       "    </tr>\n",
       "    <tr>\n",
       "      <th>13</th>\n",
       "      <td>ham</td>\n",
       "      <td>I've been searching for the right words to tha...</td>\n",
       "    </tr>\n",
       "    <tr>\n",
       "      <th>14</th>\n",
       "      <td>ham</td>\n",
       "      <td>I HAVE A DATE ON SUNDAY WITH WILL!!</td>\n",
       "    </tr>\n",
       "    <tr>\n",
       "      <th>15</th>\n",
       "      <td>spam</td>\n",
       "      <td>XXXMobileMovieClub: To use your credit, click ...</td>\n",
       "    </tr>\n",
       "    <tr>\n",
       "      <th>16</th>\n",
       "      <td>ham</td>\n",
       "      <td>Oh k...i'm watching here:)</td>\n",
       "    </tr>\n",
       "    <tr>\n",
       "      <th>17</th>\n",
       "      <td>ham</td>\n",
       "      <td>Eh u remember how 2 spell his name... Yes i di...</td>\n",
       "    </tr>\n",
       "    <tr>\n",
       "      <th>18</th>\n",
       "      <td>ham</td>\n",
       "      <td>Fine if thats the way u feel. Thats the way ...</td>\n",
       "    </tr>\n",
       "    <tr>\n",
       "      <th>19</th>\n",
       "      <td>spam</td>\n",
       "      <td>England v Macedonia - dont miss the goals/team...</td>\n",
       "    </tr>\n",
       "  </tbody>\n",
       "</table>\n",
       "</div>"
      ],
      "text/plain": [
       "   label                                            message\n",
       "0    ham  Go until jurong point, crazy.. Available only ...\n",
       "1    ham                      Ok lar... Joking wif u oni...\n",
       "2   spam  Free entry in 2 a wkly comp to win FA Cup fina...\n",
       "3    ham  U dun say so early hor... U c already then say...\n",
       "4    ham  Nah I don't think he goes to usf, he lives aro...\n",
       "5   spam  FreeMsg Hey there darling it's been 3 week's n...\n",
       "6    ham  Even my brother is not like to speak with me. ...\n",
       "7    ham  As per your request 'Melle Melle (Oru Minnamin...\n",
       "8   spam  WINNER!! As a valued network customer you have...\n",
       "9   spam  Had your mobile 11 months or more? U R entitle...\n",
       "10   ham  I'm gonna be home soon and i don't want to tal...\n",
       "11  spam  SIX chances to win CASH! From 100 to 20,000 po...\n",
       "12  spam  URGENT! You have won a 1 week FREE membership ...\n",
       "13   ham  I've been searching for the right words to tha...\n",
       "14   ham                I HAVE A DATE ON SUNDAY WITH WILL!!\n",
       "15  spam  XXXMobileMovieClub: To use your credit, click ...\n",
       "16   ham                         Oh k...i'm watching here:)\n",
       "17   ham  Eh u remember how 2 spell his name... Yes i di...\n",
       "18   ham  Fine if thats the way u feel. Thats the way ...\n",
       "19  spam  England v Macedonia - dont miss the goals/team..."
      ]
     },
     "execution_count": 11,
     "metadata": {},
     "output_type": "execute_result"
    }
   ],
   "source": [
    "sms.head(20)"
   ]
  },
  {
   "cell_type": "code",
   "execution_count": 12,
   "metadata": {
    "collapsed": false
   },
   "outputs": [
    {
     "data": {
      "text/plain": [
       "ham     4825\n",
       "spam     747\n",
       "Name: label, dtype: int64"
      ]
     },
     "execution_count": 12,
     "metadata": {},
     "output_type": "execute_result"
    }
   ],
   "source": [
    "sms.label.value_counts()"
   ]
  },
  {
   "cell_type": "code",
   "execution_count": 13,
   "metadata": {
    "collapsed": true
   },
   "outputs": [],
   "source": [
    "# convert label to a numeric variable\n",
    "sms['label'] = sms.label.map({'ham':0, 'spam':1})"
   ]
  },
  {
   "cell_type": "code",
   "execution_count": 14,
   "metadata": {
    "collapsed": true
   },
   "outputs": [],
   "source": [
    "# define X and y\n",
    "X = sms.message\n",
    "y = sms.label"
   ]
  },
  {
   "cell_type": "code",
   "execution_count": 15,
   "metadata": {
    "collapsed": false
   },
   "outputs": [
    {
     "name": "stdout",
     "output_type": "stream",
     "text": [
      "(4179,)\n",
      "(1393,)\n"
     ]
    }
   ],
   "source": [
    "# split into training and testing sets\n",
    "from sklearn.cross_validation import train_test_split\n",
    "X_train, X_test, y_train, y_test = train_test_split(X, y, random_state=1)\n",
    "print X_train.shape\n",
    "print X_test.shape"
   ]
  },
  {
   "cell_type": "markdown",
   "metadata": {},
   "source": [
    "## Part 3: Vectorizing SMS data"
   ]
  },
  {
   "cell_type": "code",
   "execution_count": 16,
   "metadata": {
    "collapsed": true
   },
   "outputs": [],
   "source": [
    "# instantiate the vectorizer\n",
    "vect = CountVectorizer()"
   ]
  },
  {
   "cell_type": "code",
   "execution_count": 17,
   "metadata": {
    "collapsed": false
   },
   "outputs": [
    {
     "data": {
      "text/plain": [
       "<4179x7456 sparse matrix of type '<type 'numpy.int64'>'\n",
       "\twith 55209 stored elements in Compressed Sparse Row format>"
      ]
     },
     "execution_count": 17,
     "metadata": {},
     "output_type": "execute_result"
    }
   ],
   "source": [
    "# learn training data vocabulary, then create document-term matrix\n",
    "vect.fit(X_train)\n",
    "X_train_dtm = vect.transform(X_train)\n",
    "X_train_dtm"
   ]
  },
  {
   "cell_type": "code",
   "execution_count": 18,
   "metadata": {
    "collapsed": false
   },
   "outputs": [
    {
     "data": {
      "text/plain": [
       "<4179x7456 sparse matrix of type '<type 'numpy.int64'>'\n",
       "\twith 55209 stored elements in Compressed Sparse Row format>"
      ]
     },
     "execution_count": 18,
     "metadata": {},
     "output_type": "execute_result"
    }
   ],
   "source": [
    "# alternative: combine fit and transform into a single step\n",
    "X_train_dtm = vect.fit_transform(X_train)\n",
    "X_train_dtm"
   ]
  },
  {
   "cell_type": "code",
   "execution_count": 19,
   "metadata": {
    "collapsed": false
   },
   "outputs": [
    {
     "data": {
      "text/plain": [
       "<1393x7456 sparse matrix of type '<type 'numpy.int64'>'\n",
       "\twith 17604 stored elements in Compressed Sparse Row format>"
      ]
     },
     "execution_count": 19,
     "metadata": {},
     "output_type": "execute_result"
    }
   ],
   "source": [
    "# transform testing data (using fitted vocabulary) into a document-term matrix\n",
    "X_test_dtm = vect.transform(X_test)\n",
    "X_test_dtm"
   ]
  },
  {
   "cell_type": "markdown",
   "metadata": {},
   "source": [
    "## Part 4: Examining the tokens and their counts"
   ]
  },
  {
   "cell_type": "code",
   "execution_count": 20,
   "metadata": {
    "collapsed": true
   },
   "outputs": [],
   "source": [
    "# store token names\n",
    "X_train_tokens = vect.get_feature_names()"
   ]
  },
  {
   "cell_type": "code",
   "execution_count": 21,
   "metadata": {
    "collapsed": false
   },
   "outputs": [
    {
     "name": "stdout",
     "output_type": "stream",
     "text": [
      "[u'00', u'000', u'008704050406', u'0121', u'01223585236', u'01223585334', u'0125698789', u'02', u'0207', u'02072069400', u'02073162414', u'02085076972', u'021', u'03', u'04', u'0430', u'05', u'050703', u'0578', u'06', u'07', u'07008009200', u'07090201529', u'07090298926', u'07123456789', u'07732584351', u'07734396839', u'07742676969', u'0776xxxxxxx', u'07781482378', u'07786200117', u'078', u'07801543489', u'07808', u'07808247860', u'07808726822', u'07815296484', u'07821230901', u'07880867867', u'0789xxxxxxx', u'07946746291', u'0796xxxxxx', u'07973788240', u'07xxxxxxxxx', u'08', u'0800', u'08000407165', u'08000776320', u'08000839402', u'08000930705']\n"
     ]
    }
   ],
   "source": [
    "# first 50 tokens\n",
    "print X_train_tokens[:50]"
   ]
  },
  {
   "cell_type": "code",
   "execution_count": 22,
   "metadata": {
    "collapsed": false
   },
   "outputs": [
    {
     "name": "stdout",
     "output_type": "stream",
     "text": [
      "[u'yer', u'yes', u'yest', u'yesterday', u'yet', u'yetunde', u'yijue', u'ym', u'ymca', u'yo', u'yoga', u'yogasana', u'yor', u'yorge', u'you', u'youdoing', u'youi', u'youphone', u'your', u'youre', u'yourjob', u'yours', u'yourself', u'youwanna', u'yowifes', u'yoyyooo', u'yr', u'yrs', u'ything', u'yummmm', u'yummy', u'yun', u'yunny', u'yuo', u'yuou', u'yup', u'zac', u'zaher', u'zealand', u'zebra', u'zed', u'zeros', u'zhong', u'zindgi', u'zoe', u'zoom', u'zouk', u'zyada', u'\\xe8n', u'\\u3028ud']\n"
     ]
    }
   ],
   "source": [
    "# last 50 tokens\n",
    "print X_train_tokens[-50:]"
   ]
  },
  {
   "cell_type": "code",
   "execution_count": 23,
   "metadata": {
    "collapsed": false
   },
   "outputs": [
    {
     "data": {
      "text/plain": [
       "array([[0, 0, 0, ..., 0, 0, 0],\n",
       "       [0, 0, 0, ..., 0, 0, 0],\n",
       "       [0, 0, 0, ..., 0, 0, 0],\n",
       "       ..., \n",
       "       [0, 0, 0, ..., 0, 0, 0],\n",
       "       [0, 0, 0, ..., 0, 0, 0],\n",
       "       [0, 0, 0, ..., 0, 0, 0]])"
      ]
     },
     "execution_count": 23,
     "metadata": {},
     "output_type": "execute_result"
    }
   ],
   "source": [
    "# view X_train_dtm as a dense matrix\n",
    "X_train_dtm.toarray()"
   ]
  },
  {
   "cell_type": "code",
   "execution_count": 24,
   "metadata": {
    "collapsed": false
   },
   "outputs": [
    {
     "data": {
      "text/plain": [
       "array([ 5, 23,  2, ...,  1,  1,  1])"
      ]
     },
     "execution_count": 24,
     "metadata": {},
     "output_type": "execute_result"
    }
   ],
   "source": [
    "# count how many times EACH token appears across ALL messages in X_train_dtm\n",
    "import numpy as np\n",
    "X_train_counts = np.sum(X_train_dtm.toarray(), axis=0)\n",
    "X_train_counts"
   ]
  },
  {
   "cell_type": "code",
   "execution_count": 25,
   "metadata": {
    "collapsed": false
   },
   "outputs": [
    {
     "data": {
      "text/plain": [
       "(7456,)"
      ]
     },
     "execution_count": 25,
     "metadata": {},
     "output_type": "execute_result"
    }
   ],
   "source": [
    "X_train_counts.shape"
   ]
  },
  {
   "cell_type": "code",
   "execution_count": 26,
   "metadata": {
    "collapsed": false
   },
   "outputs": [
    {
     "name": "stderr",
     "output_type": "stream",
     "text": [
      "/Users/jim_byers/anaconda/lib/python2.7/site-packages/ipykernel/__main__.py:2: FutureWarning: sort(columns=....) is deprecated, use sort_values(by=.....)\n",
      "  from ipykernel import kernelapp as app\n"
     ]
    },
    {
     "data": {
      "text/html": [
       "<div>\n",
       "<table border=\"1\" class=\"dataframe\">\n",
       "  <thead>\n",
       "    <tr style=\"text-align: right;\">\n",
       "      <th></th>\n",
       "      <th>count</th>\n",
       "      <th>token</th>\n",
       "    </tr>\n",
       "  </thead>\n",
       "  <tbody>\n",
       "    <tr>\n",
       "      <th>3727</th>\n",
       "      <td>1</td>\n",
       "      <td>jules</td>\n",
       "    </tr>\n",
       "    <tr>\n",
       "      <th>4172</th>\n",
       "      <td>1</td>\n",
       "      <td>mallika</td>\n",
       "    </tr>\n",
       "    <tr>\n",
       "      <th>4169</th>\n",
       "      <td>1</td>\n",
       "      <td>malarky</td>\n",
       "    </tr>\n",
       "    <tr>\n",
       "      <th>4165</th>\n",
       "      <td>1</td>\n",
       "      <td>makiing</td>\n",
       "    </tr>\n",
       "    <tr>\n",
       "      <th>4161</th>\n",
       "      <td>1</td>\n",
       "      <td>maintaining</td>\n",
       "    </tr>\n",
       "    <tr>\n",
       "      <th>4158</th>\n",
       "      <td>1</td>\n",
       "      <td>mails</td>\n",
       "    </tr>\n",
       "    <tr>\n",
       "      <th>4157</th>\n",
       "      <td>1</td>\n",
       "      <td>mailed</td>\n",
       "    </tr>\n",
       "    <tr>\n",
       "      <th>4151</th>\n",
       "      <td>1</td>\n",
       "      <td>magicalsongs</td>\n",
       "    </tr>\n",
       "    <tr>\n",
       "      <th>4150</th>\n",
       "      <td>1</td>\n",
       "      <td>maggi</td>\n",
       "    </tr>\n",
       "    <tr>\n",
       "      <th>4149</th>\n",
       "      <td>1</td>\n",
       "      <td>magazine</td>\n",
       "    </tr>\n",
       "    <tr>\n",
       "      <th>4146</th>\n",
       "      <td>1</td>\n",
       "      <td>madodu</td>\n",
       "    </tr>\n",
       "    <tr>\n",
       "      <th>4143</th>\n",
       "      <td>1</td>\n",
       "      <td>mad2</td>\n",
       "    </tr>\n",
       "    <tr>\n",
       "      <th>4142</th>\n",
       "      <td>1</td>\n",
       "      <td>mad1</td>\n",
       "    </tr>\n",
       "    <tr>\n",
       "      <th>4140</th>\n",
       "      <td>1</td>\n",
       "      <td>macs</td>\n",
       "    </tr>\n",
       "    <tr>\n",
       "      <th>4139</th>\n",
       "      <td>1</td>\n",
       "      <td>macleran</td>\n",
       "    </tr>\n",
       "    <tr>\n",
       "      <th>4138</th>\n",
       "      <td>1</td>\n",
       "      <td>mack</td>\n",
       "    </tr>\n",
       "    <tr>\n",
       "      <th>4174</th>\n",
       "      <td>1</td>\n",
       "      <td>manage</td>\n",
       "    </tr>\n",
       "    <tr>\n",
       "      <th>4175</th>\n",
       "      <td>1</td>\n",
       "      <td>manageable</td>\n",
       "    </tr>\n",
       "    <tr>\n",
       "      <th>4178</th>\n",
       "      <td>1</td>\n",
       "      <td>manchester</td>\n",
       "    </tr>\n",
       "    <tr>\n",
       "      <th>4179</th>\n",
       "      <td>1</td>\n",
       "      <td>manda</td>\n",
       "    </tr>\n",
       "    <tr>\n",
       "      <th>4201</th>\n",
       "      <td>1</td>\n",
       "      <td>marking</td>\n",
       "    </tr>\n",
       "    <tr>\n",
       "      <th>4200</th>\n",
       "      <td>1</td>\n",
       "      <td>marketing</td>\n",
       "    </tr>\n",
       "    <tr>\n",
       "      <th>4197</th>\n",
       "      <td>1</td>\n",
       "      <td>marine</td>\n",
       "    </tr>\n",
       "    <tr>\n",
       "      <th>4196</th>\n",
       "      <td>1</td>\n",
       "      <td>margin</td>\n",
       "    </tr>\n",
       "    <tr>\n",
       "      <th>4193</th>\n",
       "      <td>1</td>\n",
       "      <td>marandratha</td>\n",
       "    </tr>\n",
       "    <tr>\n",
       "      <th>4192</th>\n",
       "      <td>1</td>\n",
       "      <td>maraikara</td>\n",
       "    </tr>\n",
       "    <tr>\n",
       "      <th>4191</th>\n",
       "      <td>1</td>\n",
       "      <td>maps</td>\n",
       "    </tr>\n",
       "    <tr>\n",
       "      <th>4136</th>\n",
       "      <td>1</td>\n",
       "      <td>machi</td>\n",
       "    </tr>\n",
       "    <tr>\n",
       "      <th>4190</th>\n",
       "      <td>1</td>\n",
       "      <td>mapquest</td>\n",
       "    </tr>\n",
       "    <tr>\n",
       "      <th>4187</th>\n",
       "      <td>1</td>\n",
       "      <td>manual</td>\n",
       "    </tr>\n",
       "    <tr>\n",
       "      <th>...</th>\n",
       "      <td>...</td>\n",
       "      <td>...</td>\n",
       "    </tr>\n",
       "    <tr>\n",
       "      <th>2290</th>\n",
       "      <td>292</td>\n",
       "      <td>do</td>\n",
       "    </tr>\n",
       "    <tr>\n",
       "      <th>7257</th>\n",
       "      <td>293</td>\n",
       "      <td>with</td>\n",
       "    </tr>\n",
       "    <tr>\n",
       "      <th>7120</th>\n",
       "      <td>293</td>\n",
       "      <td>we</td>\n",
       "    </tr>\n",
       "    <tr>\n",
       "      <th>6904</th>\n",
       "      <td>297</td>\n",
       "      <td>ur</td>\n",
       "    </tr>\n",
       "    <tr>\n",
       "      <th>1081</th>\n",
       "      <td>298</td>\n",
       "      <td>at</td>\n",
       "    </tr>\n",
       "    <tr>\n",
       "      <th>2995</th>\n",
       "      <td>299</td>\n",
       "      <td>get</td>\n",
       "    </tr>\n",
       "    <tr>\n",
       "      <th>3465</th>\n",
       "      <td>302</td>\n",
       "      <td>if</td>\n",
       "    </tr>\n",
       "    <tr>\n",
       "      <th>4778</th>\n",
       "      <td>306</td>\n",
       "      <td>or</td>\n",
       "    </tr>\n",
       "    <tr>\n",
       "      <th>1522</th>\n",
       "      <td>332</td>\n",
       "      <td>but</td>\n",
       "    </tr>\n",
       "    <tr>\n",
       "      <th>4647</th>\n",
       "      <td>338</td>\n",
       "      <td>not</td>\n",
       "    </tr>\n",
       "    <tr>\n",
       "      <th>6017</th>\n",
       "      <td>344</td>\n",
       "      <td>so</td>\n",
       "    </tr>\n",
       "    <tr>\n",
       "      <th>1574</th>\n",
       "      <td>349</td>\n",
       "      <td>can</td>\n",
       "    </tr>\n",
       "    <tr>\n",
       "      <th>1016</th>\n",
       "      <td>358</td>\n",
       "      <td>are</td>\n",
       "    </tr>\n",
       "    <tr>\n",
       "      <th>4662</th>\n",
       "      <td>361</td>\n",
       "      <td>now</td>\n",
       "    </tr>\n",
       "    <tr>\n",
       "      <th>4743</th>\n",
       "      <td>390</td>\n",
       "      <td>on</td>\n",
       "    </tr>\n",
       "    <tr>\n",
       "      <th>3235</th>\n",
       "      <td>416</td>\n",
       "      <td>have</td>\n",
       "    </tr>\n",
       "    <tr>\n",
       "      <th>1552</th>\n",
       "      <td>443</td>\n",
       "      <td>call</td>\n",
       "    </tr>\n",
       "    <tr>\n",
       "      <th>6539</th>\n",
       "      <td>453</td>\n",
       "      <td>that</td>\n",
       "    </tr>\n",
       "    <tr>\n",
       "      <th>4704</th>\n",
       "      <td>460</td>\n",
       "      <td>of</td>\n",
       "    </tr>\n",
       "    <tr>\n",
       "      <th>7424</th>\n",
       "      <td>508</td>\n",
       "      <td>your</td>\n",
       "    </tr>\n",
       "    <tr>\n",
       "      <th>2821</th>\n",
       "      <td>518</td>\n",
       "      <td>for</td>\n",
       "    </tr>\n",
       "    <tr>\n",
       "      <th>4489</th>\n",
       "      <td>550</td>\n",
       "      <td>my</td>\n",
       "    </tr>\n",
       "    <tr>\n",
       "      <th>3623</th>\n",
       "      <td>568</td>\n",
       "      <td>it</td>\n",
       "    </tr>\n",
       "    <tr>\n",
       "      <th>4238</th>\n",
       "      <td>601</td>\n",
       "      <td>me</td>\n",
       "    </tr>\n",
       "    <tr>\n",
       "      <th>3612</th>\n",
       "      <td>679</td>\n",
       "      <td>is</td>\n",
       "    </tr>\n",
       "    <tr>\n",
       "      <th>3502</th>\n",
       "      <td>683</td>\n",
       "      <td>in</td>\n",
       "    </tr>\n",
       "    <tr>\n",
       "      <th>929</th>\n",
       "      <td>717</td>\n",
       "      <td>and</td>\n",
       "    </tr>\n",
       "    <tr>\n",
       "      <th>6542</th>\n",
       "      <td>1004</td>\n",
       "      <td>the</td>\n",
       "    </tr>\n",
       "    <tr>\n",
       "      <th>7420</th>\n",
       "      <td>1660</td>\n",
       "      <td>you</td>\n",
       "    </tr>\n",
       "    <tr>\n",
       "      <th>6656</th>\n",
       "      <td>1670</td>\n",
       "      <td>to</td>\n",
       "    </tr>\n",
       "  </tbody>\n",
       "</table>\n",
       "<p>7456 rows × 2 columns</p>\n",
       "</div>"
      ],
      "text/plain": [
       "      count         token\n",
       "3727      1         jules\n",
       "4172      1       mallika\n",
       "4169      1       malarky\n",
       "4165      1       makiing\n",
       "4161      1   maintaining\n",
       "4158      1         mails\n",
       "4157      1        mailed\n",
       "4151      1  magicalsongs\n",
       "4150      1         maggi\n",
       "4149      1      magazine\n",
       "4146      1        madodu\n",
       "4143      1          mad2\n",
       "4142      1          mad1\n",
       "4140      1          macs\n",
       "4139      1      macleran\n",
       "4138      1          mack\n",
       "4174      1        manage\n",
       "4175      1    manageable\n",
       "4178      1    manchester\n",
       "4179      1         manda\n",
       "4201      1       marking\n",
       "4200      1     marketing\n",
       "4197      1        marine\n",
       "4196      1        margin\n",
       "4193      1   marandratha\n",
       "4192      1     maraikara\n",
       "4191      1          maps\n",
       "4136      1         machi\n",
       "4190      1      mapquest\n",
       "4187      1        manual\n",
       "...     ...           ...\n",
       "2290    292            do\n",
       "7257    293          with\n",
       "7120    293            we\n",
       "6904    297            ur\n",
       "1081    298            at\n",
       "2995    299           get\n",
       "3465    302            if\n",
       "4778    306            or\n",
       "1522    332           but\n",
       "4647    338           not\n",
       "6017    344            so\n",
       "1574    349           can\n",
       "1016    358           are\n",
       "4662    361           now\n",
       "4743    390            on\n",
       "3235    416          have\n",
       "1552    443          call\n",
       "6539    453          that\n",
       "4704    460            of\n",
       "7424    508          your\n",
       "2821    518           for\n",
       "4489    550            my\n",
       "3623    568            it\n",
       "4238    601            me\n",
       "3612    679            is\n",
       "3502    683            in\n",
       "929     717           and\n",
       "6542   1004           the\n",
       "7420   1660           you\n",
       "6656   1670            to\n",
       "\n",
       "[7456 rows x 2 columns]"
      ]
     },
     "execution_count": 26,
     "metadata": {},
     "output_type": "execute_result"
    }
   ],
   "source": [
    "# create a DataFrame of tokens with their counts\n",
    "pd.DataFrame({'token':X_train_tokens, 'count':X_train_counts}).sort('count')"
   ]
  },
  {
   "cell_type": "markdown",
   "metadata": {},
   "source": [
    "## Bonus: Calculating the \"spamminess\" of each token"
   ]
  },
  {
   "cell_type": "code",
   "execution_count": 27,
   "metadata": {
    "collapsed": true
   },
   "outputs": [],
   "source": [
    "# create separate DataFrames for ham and spam\n",
    "sms_ham = sms[sms.label==0]\n",
    "sms_spam = sms[sms.label==1]"
   ]
  },
  {
   "cell_type": "code",
   "execution_count": 28,
   "metadata": {
    "collapsed": false
   },
   "outputs": [],
   "source": [
    "# learn the vocabulary of ALL messages and save it\n",
    "vect.fit(sms.message)\n",
    "all_tokens = vect.get_feature_names()"
   ]
  },
  {
   "cell_type": "code",
   "execution_count": 29,
   "metadata": {
    "collapsed": true
   },
   "outputs": [],
   "source": [
    "# create document-term matrices for ham and spam\n",
    "ham_dtm = vect.transform(sms_ham.message)\n",
    "spam_dtm = vect.transform(sms_spam.message)"
   ]
  },
  {
   "cell_type": "code",
   "execution_count": 30,
   "metadata": {
    "collapsed": false
   },
   "outputs": [
    {
     "name": "stdout",
     "output_type": "stream",
     "text": [
      "[0 0 1 ..., 1 0 1]\n"
     ]
    }
   ],
   "source": [
    "# count how many times EACH token appears across ALL ham messages\n",
    "ham_counts = np.sum(ham_dtm.toarray(), axis=0)\n",
    "print(ham_counts)"
   ]
  },
  {
   "cell_type": "code",
   "execution_count": 31,
   "metadata": {
    "collapsed": false
   },
   "outputs": [
    {
     "name": "stdout",
     "output_type": "stream",
     "text": [
      "[10 29  0 ...,  0  1  0]\n"
     ]
    }
   ],
   "source": [
    "# count how many times EACH token appears across ALL spam messages\n",
    "spam_counts = np.sum(spam_dtm.toarray(), axis=0)\n",
    "print(spam_counts)"
   ]
  },
  {
   "cell_type": "code",
   "execution_count": 32,
   "metadata": {
    "collapsed": false
   },
   "outputs": [
    {
     "name": "stdout",
     "output_type": "stream",
     "text": [
      "[u'00', u'000', u'000pes', u'008704050406', u'0089', u'0121', u'01223585236', u'01223585334', u'0125698789', u'02', u'0207', u'02072069400', u'02073162414', u'02085076972', u'021', u'03', u'04', u'0430', u'05', u'050703', u'0578', u'06', u'07', u'07008009200', u'07046744435', u'07090201529', u'07090298926', u'07099833605', u'07123456789', u'0721072', u'07732584351', u'07734396839', u'07742676969', u'07753741225', u'0776xxxxxxx', u'07781482378', u'07786200117', u'077xxx', u'078', u'07801543489', u'07808', u'07808247860', u'07808726822', u'07815296484', u'07821230901', u'078498', u'07880867867', u'0789xxxxxxx', u'07946746291', u'0796xxxxxx', u'07973788240', u'07xxxxxxxxx', u'08', u'0800', u'08000407165', u'08000776320', u'08000839402', u'08000930705', u'08000938767', u'08001950382', u'08002888812', u'08002986030', u'08002986906', u'08002988890', u'08006344447', u'0808', u'08081263000', u'08081560665', u'0825', u'083', u'0844', u'08448350055', u'08448714184', u'0845', u'08450542832', u'08452810071', u'08452810073', u'08452810075over18', u'0870', u'08700435505150p', u'08700469649', u'08700621170150p', u'08701213186', u'08701237397', u'08701417012', u'08701417012150p', u'0870141701216', u'087016248', u'08701752560', u'087018728737', u'0870241182716', u'08702490080', u'08702840625', u'08704050406', u'08704439680', u'08704439680ts', u'08706091795', u'0870737910216yrs', u'08707500020', u'08707509020', u'0870753331018', u'08707808226', u'08708034412', u'08708800282', u'08709222922', u'08709501522', u'0871', u'087104711148', u'08712101358', u'08712103738', u'0871212025016', u'08712300220', u'087123002209am', u'08712317606', u'08712400200', u'08712400602450p', u'08712400603', u'08712402050', u'08712402578', u'08712402779', u'08712402902', u'08712402972', u'08712404000', u'08712405020', u'08712405022', u'08712460324', u'08712466669', u'0871277810710p', u'0871277810810', u'0871277810910p', u'08714342399', u'087147123779am', u'08714712379', u'08714712388', u'08714712394', u'08714712412', u'08714714011', u'08715203028', u'08715203649', u'08715203652', u'08715203656', u'08715203677', u'08715203685', u'08715203694', u'08715205273', u'08715500022', u'08715705022', u'08717111821', u'08717168528', u'08717205546', u'0871750', u'08717507382', u'08717509990', u'08717890890', u'08717895698', u'08717898035', u'08718711108', u'08718720201', u'08718723815', u'08718725756', u'08718726270', u'087187262701', u'08718726970', u'08718726971', u'08718726978', u'087187272008', u'08718727868', u'08718727870', u'08718727870150ppm', u'08718730555', u'08718730666', u'08718738001', u'08718738002', u'08718738034', u'08719180219', u'08719180248', u'08719181259', u'08719181503', u'08719181513', u'08719839835', u'08719899217', u'08719899229', u'08719899230', u'09', u'09041940223', u'09050000301', u'09050000332', u'09050000460', u'09050000555', u'09050000878', u'09050000928', u'09050001295', u'09050001808', u'09050002311', u'09050003091', u'09050005321', u'09050090044', u'09050280520', u'09053750005', u'09056242159', u'09057039994', u'09058091854', u'09058091870', u'09058094454', u'09058094455', u'09058094507', u'09058094565', u'09058094583', u'09058094594', u'09058094597', u'09058094599', u'09058095107', u'09058095201', u'09058097189', u'09058097218', u'09058098002', u'09058099801', u'09061104276', u'09061104283', u'09061209465', u'09061213237', u'09061221061', u'09061221066', u'09061701444', u'09061701461', u'09061701851', u'09061701939', u'09061702893', u'09061743386', u'09061743806', u'09061743810', u'09061743811', u'09061744553', u'09061749602', u'09061790121', u'09061790125', u'09061790126', u'09063440451', u'09063442151', u'09063458130', u'0906346330', u'09064011000', u'09064012103', u'09064012160', u'09064015307', u'09064017295', u'09064017305', u'09064018838', u'09064019014', u'09064019788', u'09065069120', u'09065069154', u'09065171142', u'09065174042', u'09065394514', u'09065394973', u'09065989180', u'09065989182', u'09066350750', u'09066358152', u'09066358361', u'09066361921', u'09066362206', u'09066362220', u'09066362231', u'09066364311', u'09066364349', u'09066364589', u'09066368327', u'09066368470', u'09066368753', u'09066380611', u'09066382422', u'09066612661', u'09066649731from', u'09066660100', u'09071512432', u'09071512433', u'09071517866', u'09077818151', u'09090204448', u'09090900040', u'09094100151', u'09094646631', u'09094646899', u'09095350301', u'09096102316', u'09099725823', u'09099726395', u'09099726429', u'09099726481', u'09099726553', u'09111030116', u'09111032124', u'09701213186', u'0a', u'0quit', u'10', u'100', u'1000', u'1000call', u'1000s', u'100p', u'100percent', u'100txt', u'1013', u'1030', u'10am', u'10k', u'10p', u'10ppm', u'10th', u'11', u'1120', u'113', u'1131', u'114', u'1146', u'116', u'1172', u'118p', u'11mths', u'11pm', u'12', u'1205', u'120p', u'121', u'1225', u'123', u'125', u'1250', u'125gift', u'128', u'12hours', u'12hrs', u'12mths', u'13', u'130', u'1327', u'139', u'14', u'140', u'1405', u'140ppm', u'145', u'1450', u'146tf150p', u'14tcr', u'14thmarch', u'15', u'150', u'1500', u'150p', u'150p16', u'150pm', u'150ppermesssubscription', u'150ppm', u'150ppmpobox10183bhamb64xe', u'150ppmsg', u'150pw', u'151', u'153', u'15541', u'15pm', u'16', u'165', u'1680', u'169', u'177', u'18', u'180', u'1843', u'18p', u'18yrs', u'195', u'1956669', u'1apple', u'1b6a5ecef91ff9', u'1cup', u'1da', u'1er', u'1hr', u'1im', u'1lemon', u'1mega', u'1million', u'1pm', u'1st', u'1st4terms', u'1stchoice', u'1stone', u'1thing', u'1tulsi', u'1win150ppmx3', u'1winaweek', u'1winawk', u'1x150p', u'1yf', u'20', u'200', u'2000', u'2003', u'2004', u'2005', u'2006', u'2007', u'200p', u'2025050', u'20m12aq', u'20p', u'21', u'21870000', u'21st', u'22', u'220', u'220cm2', u'2309', u'23f', u'23g', u'24', u'24hrs', u'24m', u'24th', u'25', u'250', u'250k', u'255', u'25p', u'26', u'2667', u'26th', u'27', u'28', u'2814032', u'28days', u'28th', u'28thfeb', u'29', u'2b', u'2bold', u'2c', u'2channel', u'2day', u'2docd', u'2end', u'2exit', u'2ez', u'2find', u'2getha', u'2geva', u'2go', u'2gthr', u'2hook', u'2hrs', u'2i', u'2kbsubject', u'2lands', u'2marrow', u'2moro', u'2morow', u'2morro', u'2morrow', u'2morrowxxxx', u'2mro', u'2mrw', u'2mwen', u'2nd', u'2nhite', u'2nights', u'2nite', u'2optout', u'2p', u'2price', u'2px', u'2rcv', u'2stop', u'2stoptx', u'2stoptxt', u'2u', u'2u2', u'2watershd', u'2waxsto', u'2wks', u'2wt', u'2wu', u'2years', u'2yr', u'2yrs', u'30', u'300', u'3000', u'300603', u'300603t', u'300p', u'3030', u'30apr', u'30ish', u'30pm', u'30pp', u'30s', u'30th', u'31', u'3100', u'310303', u'31p', u'32', u'32000', u'3230', u'32323', u'326', u'33', u'330', u'350', u'3510i', u'35p', u'3650', u'36504', u'3680', u'373', u'3750', u'37819', u'38', u'382', u'391784', u'3aj', u'3d', u'3days', u'3g', u'3gbp', u'3hrs', u'3lions', u'3lp', u'3miles', u'3mins', u'3mobile', u'3optical', u'3pound', u'3qxj9', u'3rd', u'3ss', u'3uz', u'3wks', u'3x', u'3xx', u'40', u'400', u'400mins', u'400thousad', u'402', u'4041', u'40411', u'40533', u'40gb', u'40mph', u'41685', u'41782', u'420', u'42049', u'4217', u'42478', u'42810', u'430', u'434', u'44', u'440', u'4403ldnw1a7rw18', u'44345', u'447797706009', u'447801259231', u'448712404000', u'449050000301', u'449071512431', u'45', u'450', u'450p', u'450ppw', u'450pw', u'45239', u'45pm', u'47', u'4719', u'4742', u'47per', u'48', u'4882', u'48922', u'49', u'49557', u'4a', u'4brekkie', u'4d', u'4eva', u'4few', u'4fil', u'4get', u'4give', u'4got', u'4goten', u'4info', u'4jx', u'4msgs', u'4mths', u'4my', u'4qf2', u'4t', u'4th', u'4the', u'4thnov', u'4txt', u'4u', u'4utxt', u'4w', u'4ward', u'4wrd', u'4xx26', u'4years', u'50', u'500', u'5000', u'505060', u'50award', u'50ea', u'50gbp', u'50p', u'50perweeksub', u'50perwksub', u'50pm', u'50pmmorefrommobile2bremoved', u'50ppm', u'50rcvd', u'50s', u'515', u'5226', u'523', u'5249', u'526', u'528', u'530', u'54', u'542', u'545', u'5digital', u'5free', u'5ish', u'5k', u'5min', u'5mls', u'5p', u'5pm', u'5th', u'5wb', u'5we', u'5wkg', u'5wq', u'5years', u'60', u'600', u'6031', u'6089', u'60p', u'61', u'61200', u'61610', u'62220cncl', u'6230', u'62468', u'62735', u'630', u'63miles', u'645', u'65', u'650', u'66', u'6669', u'674', u'67441233', u'68866', u'69101', u'69200', u'69669', u'69696', u'69698', u'69855', u'69866', u'69876', u'69888', u'69888nyt', u'69911', u'69969', u'69988', u'6days', u'6hl', u'6hrs', u'6ish', u'6missed', u'6months', u'6ph', u'6pm', u'6th', u'6times', u'6wu', u'6zf', u'700', u'71', u'7250', u'7250i', u'730', u'731', u'74355', u'75', u'750', u'7548', u'75max', u'762', u'7634', u'7684', u'77', u'7732584351', u'78', u'786', u'7876150ppm', u'79', u'7am', u'7cfca1a', u'7ish', u'7mp', u'7oz', u'7pm', u'7th', u'7ws', u'7zs', u'80', u'800', u'8000930705', u'80062', u'8007', u'80082', u'80086', u'80122300p', u'80155', u'80160', u'80182', u'8027', u'80488', u'80608', u'8077', u'80878', u'81010', u'81151', u'81303', u'81618', u'82050', u'820554ad0a1705572711', u'82242', u'82277', u'82324', u'82468', u'83021', u'83039', u'83049', u'83110', u'83118', u'83222', u'83332', u'83338', u'83355', u'83370', u'83383', u'83435', u'83600', u'83738', u'84', u'84025', u'84122', u'84128', u'84199', u'84484', u'85', u'850', u'85023', u'85069', u'85222', u'85233', u'8552', u'85555', u'86021', u'861', u'864233', u'86688', u'86888', u'87021', u'87066', u'87070', u'87077', u'87121', u'87131', u'8714714', u'872', u'87239', u'87575', u'8800', u'88039', u'88066', u'88088', u'88222', u'88600', u'88800', u'8883', u'88877', u'88888', u'89034', u'89070', u'89080', u'89105', u'89123', u'89545', u'89555', u'89693', u'89938', u'8am', u'8ball', u'8lb', u'8p', u'8pm', u'8th', u'8wp', u'900', u'9061100010', u'910', u'9153', u'9280114', u'92h', u'930', u'9307622', u'945', u'946', u'95', u'9755', u'9758', u'97n7qp', u'98321561', u'99', u'9996', u'9ae', u'9am', u'9ja', u'9pm', u'9t', u'9th', u'9yt', u'____', u'a21', u'a30', u'aa', u'aah', u'aaniye', u'aaooooright', u'aathi', u'ab', u'abbey', u'abdomen', u'abeg', u'abel', u'aberdeen', u'abi', u'ability', u'abiola', u'abj', u'able', u'abnormally', u'about', u'aboutas', u'above', u'abroad', u'absence', u'absolutely', u'absolutly', u'abstract', u'abt', u'abta', u'aburo', u'abuse', u'abusers', u'ac', u'academic', u'acc', u'accent', u'accenture', u'accept', u'access', u'accessible', u'accidant', u'accident', u'accidentally', u'accommodation', u'accommodationvouchers', u'accomodate', u'accomodations', u'accordin', u'accordingly', u'account', u'accounting', u'accounts', u'accumulation', u'achan', u'ache', u'achieve', u'acid', u'acknowledgement', u'acl03530150pm', u'acnt', u'aco', u'across', u'act', u'acted', u'actin', u'acting', u'action', u'activ8', u'activate', u'active', u'activities', u'actor', u'actual', u'actually', u'ad', u'adam', u'add', u'addamsfa', u'added', u'addicted', u'addie', u'adding', u'address', u'adds', u'adewale', u'adi', u'adjustable', u'admin', u'administrator', u'admirer', u'admission', u'admit', u'adore', u'adoring', u'adp', u'adress', u'adrian', u'adrink', u'ads', u'adsense', u'adult', u'adults', u'advance', u'adventure', u'adventuring', u'advice', u'advise', u'advising', u'advisors', u'aeronautics', u'aeroplane', u'afew', u'affair', u'affairs', u'affection', u'affectionate', u'affections', u'affidavit', u'afford', u'afghanistan', u'afraid', u'africa', u'african', u'aft', u'after', u'afternon', u'afternoon', u'afternoons', u'afterwards', u'aftr', u'ag', u'again', u'against', u'agalla', u'age', u'age16', u'age23', u'agency', u'agent', u'agents', u'ages', u'agidhane', u'aging', u'ago', u'agree', u'ah', u'aha', u'ahead', u'ahhh', u'ahhhh', u'ahmad', u'ahold', u'aid', u'aids', u'aig', u'aight', u'ain', u'aint', u'air', u'air1', u'airport', u'airtel', u'aiya', u'aiyah', u'aiyar', u'aiyo', u'ajith', u'ak', u'aka', u'akon', u'al', u'alaikkum', u'alaipayuthe', u'albi', u'album', u'alcohol', u'aldrine', u'alert', u'alertfrom', u'alerts', u'aletter', u'alex', u'alfie', u'algarve', u'algebra', u'algorithms', u'ali', u'alian', u'alibi', u'alive', u'all', u'allah', u'allalo', u'allday', u'alle', u'allo', u'allow', u'allowed', u'allows', u'almost', u'alone', u'along', u'alot', u'already', u'alright', u'alrite', u'also', u'alter', u'alternative', u'although', u'alto18', u'aluable', u'alwa', u'always', u'alwys', u'am', u'amanda', u'amazing', u'ambitious', u'ambrith', u'american', u'ami', u'amigos', u'amk', u'amla', u'amma', u'ammae', u'ammo', u'amnow', u'among', u'amongst', u'amore', u'amount', u'amp', u'amplikater', u'amrca', u'amrita', u'ams', u'amt', u'amused', u'amy', u'an', u'ana', u'anal', u'analysis', u'anand', u'and', u'anderson', u'andre', u'andres', u'andrews', u'andros', u'angels', u'angry', u'animal', u'animation', u'anjie', u'anjola', u'anna', u'annie', u'anniversary', u'annoncement', u'announced', u'announcement', u'annoyin', u'annoying', u'anonymous', u'anot', u'another', u'ans', u'ansr', u'answer', u'answered', u'answerin', u'answering', u'answers', u'answr', u'antelope', u'antha', u'anthony', u'anti', u'antibiotic', u'any', u'anybody', u'anyhow', u'anymore', u'anyone', u'anyones', u'anyplaces', u'anythiing', u'anythin', u'anything', u'anythingtomorrow', u'anytime', u'anyway', u'anyways', u'anywhere', u'aom', u'apart', u'apartment', u'apes', u'apeshit', u'aphex', u'apnt', u'apo', u'apologetic', u'apologise', u'apologize', u'apology', u'app', u'apparently', u'appeal', u'appear', u'appendix', u'applausestore', u'applebees', u'apples', u'application', u'apply', u'applyed', u'applying', u'appointment', u'appointments', u'appreciate', u'appreciated', u'approaches', u'approaching', u'appropriate', u'approve', u'approved', u'approx', u'apps', u'appt', u'appy', u'april', u'aproach', u'apt', u'aptitude', u'aquarius', u'ar', u'arab', u'arabian', u'arcade', u'archive', u'ard', u'are', u'area', u'aren', u'arent', u'arestaurant', u'aretaking', u'areyouunique', u'argentina', u'argh', u'argue', u'arguing', u'argument', u'arguments', u'aries', u'arise', u'arises', u'arithmetic', u'arm', u'armand', u'armenia', u'arms', u'arng', u'arngd', u'arnt', u'around', u'aroundn', u'arr', u'arrange', u'arranging', u'arrested', u'arrival', u'arrive', u'arrived', u'arrow', u'arsenal', u'art', u'artists', u'arts', u'arty', u'arul', u'arun', u'as', u'asa', u'asap', u'asda', u'ashes', u'ashley', u'ashwini', u'asia', u'asian', u'asjesus', u'ask', u'askd', u'asked', u'askin', u'asking', u'asks', u'aslamalaikkum', u'asleep', u'asp', u'aspects', u'ass', u'assessment', u'asshole', u'assistance', u'associate', u'asssssholeeee', u'assume', u'assumed', u'asthere', u'asthma', u'astne', u'astoundingly', u'astrology', u'astronomer', u'asus', u'asusual', u'at', u'ate', u'athletic', u'athome', u'atlanta', u'atlast', u'atleast', u'atm', u'atrocious', u'attach', u'attached', u'attack', u'attempt', u'atten', u'attend', u'attended', u'attending', u'attention', u'attitude', u'attraction', u'attractive', u'attracts', u'attributed', u'atural', u'auction', u'audiitions', u'audition', u'audrey', u'audrie', u'august', u'aunt', u'auntie', u'aunties', u'aunts', u'aunty', u'aust', u'australia', u'authorise', u'auto', u'autocorrect', u'av', u'ava', u'availa', u'available', u'avalarr', u'avatar', u'avble', u'ave', u'avenge', u'avent', u'avenue', u'avin', u'avo', u'avoid', u'avoiding', u'avoids', u'await', u'awaiting', u'awake', u'award', u'awarded', u'away', u'awesome', u'awkward', u'aww', u'awww', u'ax', u'axel', u'axis', u'ay', u'ayn', u'ayo', u'b4', u'b4190604', u'b4280703', u'b4u', u'b4utele', u'ba', u'ba128nnfwfly150ppm', u'baaaaaaaabe', u'baaaaabe', u'babe', u'babes', u'babies', u'baby', u'babygoodbye', u'babyjontet', u'babysit', u'babysitting', u'bac', u'back', u'backdoor', u'backwards', u'bad', u'badass', u'badly', u'badrith', u'bag', u'bags', u'bahamas', u'baig', u'bailiff', u'bajarangabali', u'bak', u'bakra', u'bakrid', u'balance', u'ball', u'baller', u'balloon', u'balls', u'bam', u'bambling', u'band', u'bandages', u'bang', u'bangb', u'bangbabes', u'bani', u'bank', u'banks', u'banned', u'banneduk', u'banter', u'bao', u'bar', u'barbie', u'barcelona', u'bare', u'barely', u'bari', u'barkleys', u'barmed', u'barolla', u'barred', u'barrel', u'barring', u'barry', u'bars', u'base', u'based', u'bash', u'basic', u'basically', u'basket', u'basketball', u'basq', u'bat', u'batch', u'batchlor', u'bath', u'bathe', u'bathing', u'bathroom', u'batsman', u'batt', u'battery', u'battle', u'bawling', u'bay', u'bb', u'bbc', u'bbd', u'bbdeluxe', u'bbq', u'bc', u'bcaz', u'bck', u'bcm', u'bcm1896wc1n3xx', u'bcm4284', u'bcmsfwc1n3xx', u'bcoz', u'bcs', u'bcum', u'bcums', u'bcz', u'bday', u'be', u'beach', u'beads', u'bear', u'bears', u'beatings', u'beauties', u'beautiful', u'beauty', u'bec', u'becaus', u'because', u'becausethey', u'become', u'becomes', u'becoz', u'becz', u'bed', u'bedbut', u'bedreal', u'bedrm', u'bedroom', u'beeen', u'beehoon', u'been', u'beendropping', u'beer', u'beerage', u'beers', u'befor', u'before', u'beforehand', u'beg', u'beggar', u'begging', u'begin', u'begins', u'begun', u'behalf', u'behave', u'behind', u'bein', u'being', u'believe', u'belive', u'bell', u'bellearlier', u'belligerent', u'belly', u'belong', u'belongs', u'belovd', u'beloved', u'belt', u'ben', u'bend', u'beneath', u'beneficiary', u'benefits', u'bennys', u'bergkamp', u'beside', u'best', u'best1', u'bet', u'beta', u'beth', u'betta', u'better', u'bettersn', u'bettr', u'between', u'beverage', u'bevies', u'beware', u'beyond', u'bf', u'bffs', u'bfore', u'bhaji', u'bhaskar', u'bhayandar', u'bian', u'biatch', u'bid', u'bids', u'big', u'bigger', u'biggest', u'bike', u'bill', u'billed', u'billing', u'billion', u'bills', u'billy', u'bilo', u'bimbo', u'bin', u'biola', u'bird', u'birds', u'birla', u'biro', u'birth', u'birthdate', u'birthday', u'bishan', u'bit', u'bitch', u'bitching', u'bite', u'bites', u'bits', u'biz', u'bk', u'black', u'blackberry', u'blacko', u'blah', u'blake', u'blame', u'blank', u'blanked', u'blanket', u'blankets', u'blastin', u'bleak', u'bleh', u'bless', u'blessed', u'blessing', u'blessings', u'blimey', u'blind', u'block', u'blocked', u'blog', u'blogging', u'blogspot', u'bloke', u'blokes', u'blonde', u'bloo', u'blood', u'bloody', u'bloomberg', u'blow', u'blowing', u'blown', u'blu', u'blue', u'bluetooth', u'bluetoothhdset', u'bluff', u'blur', u'bluray', u'bmw', u'board', u'boat', u'boatin', u'bob', u'body', u'boggy', u'bognor', u'bold', u'bold2', u'bollox', u'boltblue', u'bomb', u'bone', u'bong', u'bonus', u'boo', u'boobs', u'book', u'booked', u'bookedthe', u'booking', u'bookmark', u'books', u'bookshelf', u'boooo', u'boost', u'booty', u'bootydelious', u'borderline', u'bored', u'borin', u'boring', u'born', u'borrow', u'boss', u'boston', u'bot', u'both', u'bother', u'bothering', u'bottle', u'bottom', u'bought', u'boundaries', u'bout', u'bowa', u'bowl', u'bowls', u'box', u'box1146', u'box139', u'box177', u'box245c2150pm', u'box326', u'box334', u'box334sk38ch', u'box385', u'box39822', u'box403', u'box420', u'box42wr29c', u'box434sk38wp150ppm18', u'box61', u'box95qu', u'box97n7qp', u'boy', u'boye', u'boyf', u'boyfriend', u'boys', u'boytoy', u'bpo', u'brah', u'brain', u'braindance', u'brainless', u'brains', u'brainy', u'brand', u'brandy', u'bras', u'brats', u'braved', u'bray', u'brb', u'brdget', u'bread', u'breadstick', u'break', u'breaker', u'breakfast', u'breakin', u'breaking', u'breaks', u'breath', u'breathe', u'breathe1', u'breather', u'breathing', u'breeze', u'breezy', u'bribe', u'bridal', u'bridge', u'bridgwater', u'brief', u'bright', u'brighten', u'brilliant', u'brilliantly', u'brin', u'bring', u'bringing', u'brings', u'brisk', u'brison', u'bristol', u'british', u'britney', u'bro', u'broad', u'broadband', u'broke', u'broken', u'brolly', u'bros', u'broth', u'brothas', u'brother', u'brothers', u'brought', u'brown', u'brownie', u'brownies', u'browse', u'browser', u'browsin', u'bruce', u'brum', u'bruv', u'bslvyl', u'bsn', u'bsnl', u'bstfrnd', u'bt', u'bthere', u'btw', u'btwn', u'bubbletext', u'bucks', u'bud', u'buddy', u'buddys', u'budget', u'buen', u'buff', u'buffet', u'buffy', u'bugis', u'build', u'building', u'built', u'bulbs', u'bull', u'bullshit', u'bunch', u'bundle', u'bunkers', u'buns', u'burden', u'burger', u'burgundy', u'burial', u'burn', u'burning', u'burns', u'burnt', u'burrito', u'bus', u'bus8', u'buses', u'busetop', u'business', u'busty', u'busy', u'but', u'butt', u'buttheres', u'butting', u'buttons', u'buy', u'buyer', u'buyers', u'buying', u'buz', u'buzy', u'buzz', u'buzzzz', u'bw', u'bx', u'bx420', u'bx526', u'by', u'byatch', u'bye', u'c52', u'cab', u'cabin', u'cable', u'cafe', u'cage', u'cake', u'cakes', u'cal', u'calculated', u'calculation', u'cali', u'calicut', u'california', u'call', u'call09050000327', u'call2optout', u'callback', u'callcost', u'callcost150ppmmobilesvary', u'calld', u'called', u'caller', u'callers', u'callertune', u'callfreefone', u'callin', u'calling', u'callon', u'calls', u'calls1', u'calm', u'cam', u'camcorder', u'came', u'camera', u'camp', u'campus', u'camry', u'can', u'canada', u'canal', u'canary', u'cancel', u'canceled', u'cancelled', u'cancer', u'canlove', u'cann', u'canname', u'cannot', u'cant', u'cantdo', u'canteen', u'capacity', u'capital', u'cappuccino', u'caps', u'captain', u'captaining', u'car', u'card', u'cardiff', u'cardin', u'cards', u'care', u'careabout', u'cared', u'career', u'careers', u'careful', u'carefully', u'careless', u'cares', u'caring', u'carlie', u'carlin', u'carlos', u'carly', u'carolina', u'caroline', u'carpark', u'carry', u'carryin', u'cars', u'cartons', u'cartoon', u'case', u'cash', u'cashbin', u'cashed', u'cashto', u'casing', u'cast', u'casting', u'castor', u'casualty', u'cat', u'catch', u'catches', u'catching', u'categories', u'caught', u'cause', u'causes', u'causing', u'cave', u'caveboy', u'cbe', u'cc', u'cc100p', u'ccna', u'cd', u'cdgt', u'cds', u'cedar', u'ceiling', u'celeb', u'celebrate', u'celebrated', u'celebration', u'celebrations', u'cell', u'census', u'center', u'centre', u'century', u'cer', u'cereals', u'ceri', u'certainly', u'certificate', u'cha', u'chachi', u'chad', u'chain', u'challenge', u'challenging', u'champ', u'champlaxigating', u'champneys', u'chance', u'chances', u'change', u'changed', u'changes', u'changing', u'channel', u'chapel', u'chaps', u'chapter', u'character', u'characters', u'charge', u'charged', u'charges', u'charity', u'charles', u'charlie', u'charming', u'chart', u'charts', u'chase', u'chasing', u'chastity', u'chat', u'chat80155', u'chatlines', u'chatter', u'chatting', u'cheap', u'cheaper', u'cheat', u'cheating', u'chechi', u'check', u'checkboxes', u'checked', u'checkin', u'checking', u'checkmate', u'checkup', u'cheek', u'cheer', u'cheered', u'cheers', u'cheery', u'cheese', u'cheesy', u'cheetos', u'chef', u'chennai', u'cheque', u'cherish', u'cherthala', u'chess', u'chest', u'chex', u'cheyyamo', u'chez', u'chg', u'chgs', u'chic', u'chick', u'chicken', u'chickened', u'chief', u'chik', u'chikku', u'child', u'childish', u'childporn', u'children', u'childrens', u'chile', u'chill', u'chillaxin', u'chillin', u'china', u'chinatown', u'chinchillas', u'chinese', u'chinky', u'chinnu', u'chiong', u'chip', u'chit', u'chk', u'chloe', u'chocolate', u'choice', u'choices', u'choose', u'choosing', u'chop', u'chords', u'chores', u'chosen', u'chrgd', u'christ', u'christians', u'christmas', u'christmassy', u'chuck', u'chuckin', u'church', u'ciao', u'cine', u'cinema', u'citizen', u'city', u'citylink', u'cl', u'claim', u'claimcode', u'claims', u'claire', u'clarification', u'clarify', u'clark', u'clas', u'clash', u'class', u'classes', u'classic', u'classmates', u'claypot', u'cld', u'clean', u'cleaning', u'clear', u'cleared', u'clearer', u'clearing', u'clearly', u'clever', u'click', u'cliff', u'cliffs', u'clip', u'clock', u'clocks', u'clos1', u'close', u'closeby', u'closed', u'closer', u'closes', u'closingdate04', u'cloth', u'clothes', u'cloud', u'clover', u'club', u'club4', u'club4mobiles', u'clubmoby', u'clubsaisai', u'clubzed', u'clue', u'cm', u'cm2', u'cme', u'cmon', u'cn', u'cnl', u'cnn', u'cnupdates', u'co', u'coach', u'coast', u'coat', u'coaxing', u'coca', u'coccooning', u'cochin', u'cock', u'cocksuckers', u'coco', u'code', u'coffee', u'coherently', u'coimbatore', u'coin', u'coincidence', u'coins', u'cola', u'colany', u'cold', u'colin', u'collages', u'collapsed', u'colleagues', u'collect', u'collected', u'collecting', u'collection', u'colleg', u'college', u'color', u'colour', u'colourful', u'colours', u'com', u'com1win150ppmx3age16', u'com1win150ppmx3age16subscription', u'comb', u'combination', u'combine', u'come', u'comedy', u'comes', u'comfey', u'comfort', u'comin', u'coming', u'comingdown', u'command', u'comment', u'commercial', u'commit', u'common', u'community', u'como', u'comp', u'companies', u'companion', u'company', u'compare', u'compass', u'compensation', u'competition', u'complacent', u'complain', u'complaining', u'complaint', u'complementary', u'complete', u'completed', u'completely', u'completes', u'completing', u'complexities', u'complimentary', u'compliments', u'comprehensive', u'compromised', u'compulsory', u'computational', u'computer', u'computerless', u'computers', u'comuk', u'conacted', u'concentrate', u'concentrating', u'concentration', u'concern', u'concerned', u'concert', u'conclusion', u'condition', u'conditions', u'conducts', u'conected', u'conference', u'confidence', u'configure', u'confirm', u'confirmd', u'confirmed', u'conform', u'confused', u'confuses', u'congrats', u'congratulation', u'congratulations', u'connect', u'connected', u'connection', u'connections', u'cons', u'consensus', u'consent', u'conserve', u'consider', u'considering', u'consistently', u'console', u'constant', u'constantly', u'contact', u'contacted', u'contacts', u'contains', u'content', u'contented', u'contention', u'contents', u'continent', u'continue', u'continued', u'contract', u'contribute', u'control', u'convenience', u'conversations', u'converted', u'converter', u'convey', u'conveying', u'convince', u'convinced', u'convincing', u'cook', u'cooked', u'cookies', u'cooking', u'cool', u'cooped', u'cooperative', u'copied', u'copies', u'coping', u'cops', u'copy', u'corect', u'cornwall', u'corporation', u'corrct', u'correct', u'correction', u'correctly', u'corrupt', u'corvettes', u'cos', u'cosign', u'cost', u'costa', u'costing', u'costs', u'costume', u'costumes', u'couch', u'cougar', u'cough', u'coughing', u'could', u'coulda', u'couldn', u'count', u'countin', u'countinlots', u'country', u'counts', u'coupla', u'couple', u'courage', u'courageous', u'course', u'court', u'courtroom', u'cousin', u'cover', u'coveragd', u'covers', u'coz', u'cozy', u'cps', u'cr', u'cr01327bt', u'cr9', u'crab', u'crack', u'craigslist', u'crammed', u'cramps', u'crap', u'crash', u'crashed', u'crashing', u'crave', u'craving', u'craziest', u'crazy', u'crazyin', u'crckt', u'cream', u'created', u'creative', u'creativity', u'credit', u'credited', u'credits', u'creep', u'creepy', u'cres', u'cribbs', u'cricket', u'cricketer', u'crickiting', u'cried', u'crisis', u'cro1327', u'crore', u'cross', u'crossing', u'crowd', u'croydon', u'crucial', u'crucify', u'cruel', u'cruise', u'cruisin', u'crushes', u'cry', u'crying', u'cs', u'csbcm4235wc1n3xx', u'csc', u'csh11', u'cst', u'cstore', u'ctagg', u'ctargg', u'cthen', u'ctla', u'cts', u'cttargg', u'ctter', u'cttergg', u'ctxt', u'cu', u'cuck', u'cud', u'cuddle', u'cuddled', u'cuddling', u'cudnt', u'culdnt', u'cultures', u'cum', u'cumin', u'cumming', u'cup', u'cupboard', u'cuppa', u'curfew', u'curious', u'current', u'currently', u'curry', u'curtsey', u'cusoon', u'cust', u'custcare', u'custom', u'customer', u'customercare', u'customers', u'customersqueries', u'cut', u'cute', u'cutefrnd', u'cutest', u'cutie', u'cutter', u'cutting', u'cuz', u'cw25wx', u'cya', u'cyclists', u'cysts', u'd3wv', u'da', u'daaaaa', u'dabbles', u'dabooks', u'dad', u'daddy', u'dads', u'dai', u'daily', u'dammit', u'damn', u'dan', u'dancce', u'dance', u'dancin', u'dancing', u'dane', u'dang', u'danger', u'dangerous', u'dao', u'dare', u'dark', u'darker', u'darkest', u'darkness', u'darlin', u'darling', u'darlings', u'darren', u'dartboard', u'das', u'dasara', u'dat', u'data', u'date', u'datebox1282essexcm61xn', u'dates', u'dating', u'dats', u'datz', u'dave', u'dawns', u'day', u'days', u'daytime', u'daywith', u'db', u'dbuk', u'dd', u'de', u'dead', u'deal', u'dealer', u'dealing', u'deals', u'dear', u'dear1', u'dearer', u'dearly', u'death', u'debating', u'dec', u'decades', u'december', u'decent', u'decide', u'decided', u'deciding', u'decimal', u'decision', u'decisions', u'deck', u'decking', u'declare', u'decorating', u'dedicate', u'dedicated', u'deduct', u'deep', u'deepak', u'deepest', u'deer', u'deeraj', u'def', u'defeat', u'defer', u'deficient', u'definite', u'definitely', u'definitly', u'defo', u'degree', u'degrees', u'dehydrated', u'dehydration', u'del', u'delay', u'delayed', u'delete', u'deleted', u'delhi', u'delicious', u'deliver', u'delivered', u'deliveredtomorrow', u'delivery', u'deltomorrow', u'deluxe', u'dem', u'demand', u'den', u'dena', u'dengra', u'denis', u'dent', u'dental', u'dentist', u'dentists', u'deny', u'denying', u'department', u'dependable', u'dependents', u'depends', u'deposit', u'deposited', u'depressed', u'depression', u'dept', u'der', u'derek', u'derp', u'describe', u'description', u'desert', u'deserve', u'designation', u'desires', u'desk', u'desparate', u'desparately', u'desperate', u'despite', u'dessert', u'destination', u'destiny', u'detail', u'detailed', u'details', u'determine', u'determined', u'detroit', u'deus', u'develop', u'developed', u'developer', u'device', u'devils', u'deviousbitch', u'devouring', u'dey', u'dha', u'dhanush', u'dhina', u'dhoni', u'dhorte', u'di', u'dial', u'dialling', u'dialogue', u'diamond', u'diamonds', u'diapers', u'dice', u'dick', u'dict', u'dictionary', u'did', u'diddy', u'didn', u'didnt', u'didntgive', u'die', u'died', u'diesel', u'diet', u'dieting', u'diff', u'differ', u'difference', u'differences', u'different', u'difficult', u'difficulties', u'dificult', u'digi', u'digital', u'digits', u'dignity', u'dileep', u'dime', u'dimension', u'din', u'dine', u'dined', u'dinero', u'ding', u'dining', u'dinner', u'dino', u'dint', u'dip', u'dippeditinadew', u'direct', u'directly', u'director', u'directors', u'dirt', u'dirtiest', u'dirty', u'dis', u'disagreeable', u'disappeared', u'disappointment', u'disaster', u'disasters', u'disastrous', u'disc', u'disclose', u'disconnect', u'disconnected', u'discount', u'discreet', u'discuss', u'discussed', u'diseases', u'disk', u'dislikes', u'dismay', u'dismissial', u'display', u'distance', u'distract', u'disturb', u'disturbance', u'disturbing', u'ditto', u'divert', u'division', u'divorce', u'diwali', u'dizzamn', u'dizzee', u'dl', u'dled', u'dlf', u'dload', u'dnot', u'dnt', u'do', u'dob', u'dobby', u'doc', u'dock', u'docks', u'docs', u'doctor', u'doctors', u'documents', u'dodda', u'dodgey', u'does', u'doesdiscount', u'doesn', u'doesnt', u'dog', u'dogbreath', u'dogg', u'doggin', u'dogging', u'doggy', u'dogs', u'dogwood', u'doin', u'doinat', u'doing', u'doit', u'doke', u'dokey', u'doll', u'dollar', u'dollars', u'dolls', u'dom', u'domain', u'don', u'donate', u'done', u'donno', u'dont', u'dontcha', u'dontignore', u'dontmatter', u'dontplease', u'donyt', u'dooms', u'door', u'doors', u'dorm', u'dormitory', u'dorothy', u'dose', u'dosomething', u'dot', u'double', u'doublemins', u'doubles', u'doubletxt', u'doubt', u'doug', u'dough', u'down', u'download', u'downloaded', u'downloads', u'downon', u'downs', u'downstem', u'dozens', u'dps', u'dr', u'dracula', u'drama', u'dramastorm', u'dramatic', u'drastic', u'draw', u'draws', u'dreading', u'dream', u'dreams', u'dreamz', u'dress', u'dressed', u'dresser', u'drink', u'drinkin', u'drinking', u'drinks', u'drivby', u'drive', u'driver', u'drivin', u'driving', u'drizzling', u'drms', u'drop', u'dropped', u'drops', u'drove', u'drpd', u'drug', u'drugdealer', u'drugs', u'drum', u'drunk', u'drunkard', u'drunken', u'drvgsto', u'dry', u'dryer', u'dsn', u'dt', u'dual', u'dub', u'dubsack', u'duchess', u'ducking', u'dude', u'dudes', u'dudette', u'due', u'duffer', u'dull', u'dumb', u'dump', u'dun', u'dungerees', u'dunno', u'duo', u'durban', u'durham', u'during', u'dusk', u'dust', u'duvet', u'dvd', u'dvg', u'dwn', u'dying', u'dysentry', u'e14', u'each', u'eachother', u'ear', u'earlier', u'earliest', u'early', u'earn', u'earning', u'ears', u'earth', u'easier', u'easiest', u'easily', u'east', u'eastenders', u'easter', u'easy', u'eat', u'eaten', u'eatin', u'eating', u'ebay', u'ec2a', u'echo', u'eckankar', u'ecstacy', u'ecstasy', u'ed', u'edge', u'edhae', u'edison', u'edition', u'edrunk', u'edu', u'education', u'educational', u'edukkukayee', u'edward', u'edwards', u'ee', u'eek', u'eerie', u'eerulli', u'effect', u'effects', u'efficient', u'efreefone', u'eg', u'egbon', u'egg', u'eggs', u'ego', u'eh', u'eh74rr', u'eight', u'eighth', u'eightish', u'eire', u'either', u'el', u'ela', u'elaborate', u'elaborating', u'elaine', u'elama', u'elaya', u'eldest', u'election', u'elections', u'electricity', u'elephant', u'eleven', u'elliot', u'ello', u'else', u'elsewhere', u'elvis', u'em', u'email', u'emailed', u'embarassed', u'embarassing', u'embarrassed', u'embassy', u'emc1', u'emergency', u'emerging', u'emigrated', u'emily', u'emotion', u'employee', u'employer', u'empty', u'en', u'enc', u'end', u'ended', u'ending', u'endless', u'endof', u'endowed', u'ends', u'enemies', u'enemy', u'energy', u'eng', u'engaged', u'engagement', u'engalnd', u'engin', u'england', u'english', u'enjoy', u'enjoyed', u'enjoyin', u'enjoying', u'enketa', u'enna', u'ennal', u'enough', u'ente', u'enter', u'entered', u'enters', u'entertain', u'entertaining', u'entey', u'entire', u'entirely', u'entitled', u'entrepreneurs', u'entropication', u'entry', u'entry41', u'enufcredeit', u'enuff', u'envelope', u'environment', u'envy', u'epi', u'eppolum', u'epsilon', u'equally', u'er', u'ere', u'ericson', u'ericsson', u'erm', u'erode', u'erotic', u'err', u'error', u'errors', u'ertini', u'eruku', u'erupt', u'erutupalam', u'esaplanade', u'escalator', u'escape', u'ese', u'eshxxxxxxxxxxx', u'espe', u'especially', u'esplanade', u'essay', u'essential', u'establish', u'eta', u'etc', u'ethnicity', u'etlp', u'ettans', u'euro', u'euro2004', u'eurodisinc', u'europe', u'evaluation', u'evaporated', u'eve', u'eveb', u'even', u'evening', u'evenings', u'event', u'events', u'eventually', u'ever', u'every', u'every1', u'everybody', u'everyboy', u'everyday', u'everyone', u'everyones', u'everyso', u'everythin', u'everything', u'everytime', u'everywhere', u'evey', u'eviction', u'evil', u'evn', u'evng', u'evo', u'evone', u'evr', u'evrey', u'evry', u'evry1', u'evrydy', u'ew', u'ex', u'exact', u'exactly', u'exam', u'exams', u'excellent', u'except', u'exchanged', u'excited', u'exciting', u'excuse', u'excused', u'excuses', u'exe', u'executive', u'exercise', u'exeter', u'exhaust', u'exhausted', u'exhibition', u'exist', u'exmpel', u'exorcism', u'exorcist', u'exp', u'expect', u'expected', u'expecting', u'expects', u'expensive', u'experience', u'experiencehttp', u'experiment', u'expert', u'expired', u'expires', u'expiry', u'explain', u'explicit', u'explicitly', u'explosive', u'exposed', u'exposes', u'express', u'expression', u'expressoffer', u'ext', u'exterminator', u'extra', u'extract', u'extreme', u'ey', u'eye', u'eyed', u'eyes', u'f4q', u'fa', u'fab', u'faber', u'face', u'facebook', u'facilities', u'fact', u'factory', u'facts', u'faded', u'faggot', u'faggy', u'faglord', u'failed', u'failing', u'fails', u'failure', u'fainting', u'fair', u'faith', u'fake', u'fakeye', u'fal', u'falconerf', u'fall', u'fallen', u'falling', u'falls', u'fals', u'famamus', u'familiar', u'family', u'famous', u'fan', u'fancied', u'fancies', u'fancy', u'fans', u'fantasies', u'fantastic', u'fantasy', u'far', u'farm', u'farrell', u'farting', u'fassyole', u'fast', u'faster', u'fastest', u'fat', u'fated', u'father', u'fathima', u'fats', u'fatty', u'fault', u'fav', u'fave', u'favor', u'favorite', u'favour', u'favourite', u'fb', u'fear', u'feathery', u'features', u'feb', u'february', u'fed', u'fedex', u'feed', u'feel', u'feelin', u'feeling', u'feelingood', u'feellikw', u'feels', u'fees', u'feet', u'fell', u'fellow', u'felt', u'female', u'feng', u'festival', u'fetch', u'fetching', u'fever', u'few', u'ffectionate', u'fffff', u'ffffffffff', u'ffffuuuuuuu', u'fgkslpo', u'fgkslpopw', u'fidalfication', u'field', u'fieldof', u'fiend', u'fifa', u'fifteen', u'fifth', u'fifty', u'fight', u'fighting', u'fightng', u'fights', u'figure', u'figures', u'figuring', u'file', u'files', u'fill', u'filled', u'filling', u'fills', u'film', u'films', u'filth', u'filthy', u'filthyguys', u'final', u'finalise', u'finally', u'finance', u'financial', u'find', u'finding', u'finds', u'fine', u'finest', u'fingers', u'finish', u'finishd', u'finished', u'finishes', u'finishing', u'fink', u'finn', u'fire', u'fired', u'firefox', u'fireplace', u'fires', u'firmware', u'firsg', u'first', u'fish', u'fishhead', u'fishrman', u'fit', u'fiting', u'five', u'fix', u'fixd', u'fixed', u'fixedline', u'fixes', u'fizz', u'flag', u'flaked', u'flaky', u'flame', u'flash', u'flat', u'flatter', u'flavour', u'flea', u'fletcher', u'flew', u'flies', u'flight', u'flights', u'flim', u'flip', u'flippin', u'flirt', u'flirting', u'flirtparty', u'floating', u'flood', u'floor', u'floppy', u'florida', u'flow', u'flower', u'flowers', u'flowing', u'fluids', u'flung', u'flurries', u'flute', u'fly', u'flying', u'flyng', u'fm', u'fml', u'fne', u'fo', u'fold', u'foley', u'folks', u'follow', u'followed', u'followin', u'following', u'follows', u'fond', u'fondly', u'fone', u'foned', u'fones', u'fonin', u'food', u'fool', u'fooled', u'fools', u'foot', u'football', u'footbl', u'footie', u'footprints', u'footy', u'for', u'force', u'forced', u'foregate', u'foreign', u'forever', u'forevr', u'forfeit', u'forget', u'forgets', u'forgive', u'forgiven', u'forgiveness', u'forgot', u'forgotten', u'forgt', u'form', u'formal', u'formally', u'format', u'formatting', u'forms', u'forth', u'fortune', u'forum', u'forums', u'forward', u'forwarded', u'forwarding', u'found', u'foundurself', u'four', u'fourth', u'foward', u'fowler', u'fox', u'fps', u'fr', u'fraction', u'fran', u'frank', u'frankie', u'franxx', u'franyxxxxx', u'frauds', u'freak', u'freaked', u'freaking', u'freaky', u'fredericksburg', u'free', u'free2day', u'freedom', u'freeentry', u'freefone', u'freek', u'freely', u'freemsg', u'freephone', u'freezing', u'freinds', u'fren', u'french', u'frens', u'frequently', u'fresh', u'freshers', u'fret', u'fri', u'friday', u'fridays', u'fridge', u'fried', u'friend', u'friends', u'friendsare', u'friendship', u'friendships', u'fring', u'fringe', u'frm', u'frmcloud', u'frnd', u'frnds', u'frndship', u'frndshp', u'frndsship', u'frndz', u'frnt', u'fro', u'frog', u'from', u'fromm', u'fromwrk', u'front', u'frontierville', u'frosty', u'fruit', u'frwd', u'frying', u'ft', u'fuck', u'fucked', u'fuckin', u'fucking', u'fuckinnice', u'fucks', u'fudge', u'fuelled', u'fujitsu', u'ful', u'fulfil', u'full', u'fullonsms', u'fumbling', u'fun', u'function', u'functions', u'fund', u'fundamentals', u'funeral', u'funk', u'funky', u'funny', u'funs', u'furniture', u'further', u'fusion', u'future', u'fuuuuck', u'fwiw', u'fyi', u'g2', u'g696ga', u'ga', u'gage', u'gail', u'gailxx', u'gain', u'gained', u'gal', u'galileo', u'gals', u'gam', u'gamb', u'game', u'games', u'gamestar', u'gandhipuram', u'ganesh', u'gang', u'gap', u'gaps', u'garage', u'garbage', u'garden', u'gardener', u'gari', u'garments', u'gary', u'gas', u'gastroenteritis', u'gate', u'gauge', u'gautham', u'gauti', u'gave', u'gay', u'gayle', u'gays', u'gaytextbuddy', u'gaze', u'gbp', u'gbp1', u'gbp4', u'gbp5', u'gd', u'gdeve', u'ge', u'gee', u'geeee', u'geeeee', u'gei', u'gek1510', u'gender', u'general', u'generally', u'genes', u'genius', u'gent', u'gentle', u'gentleman', u'gently', u'genuine', u'genus', u'geoenvironmental', u'george', u'gep', u'ger', u'germany', u'get', u'get4an18th', u'getiing', u'geting', u'gets', u'getsleep', u'getstop', u'gettin', u'getting', u'getzed', u'gf', u'ghodbandar', u'ghost', u'gibbs', u'gibe', u'gift', u'gifted', u'gifts', u'giggle', u'gigolo', u'gimme', u'gimmi', u'gin', u'girl', u'girlfrnd', u'girlie', u'girls', u'gist', u'giv', u'give', u'given', u'gives', u'giving', u'glad', u'glands', u'glasgow', u'glass', u'glo', u'global', u'glorious', u'glory', u'gloucesterroad', u'gm', u'gmw', u'gn', u'gnarls', u'gnt', u'gnun', u'go', u'go2', u'go2sri', u'goal', u'goals', u'gobi', u'god', u'gods', u'goes', u'goggles', u'goigng', u'goin', u'goin2bed', u'going', u'gokila', u'gold', u'golddigger', u'golden', u'goldviking', u'golf', u'gon', u'gona', u'gone', u'gong', u'gonna', u'gonnamissu', u'good', u'goodevening', u'goodfriend', u'goodies', u'goodmate', u'goodmorning', u'goodnight', u'goodnite', u'goodnoon', u'goodo', u'goods', u'goodtime', u'google', u'gopalettan', u'gorgeous', u'gosh', u'goss', u'gossip', u'got', u'gota', u'gotany', u'gotbabes', u'gotmarried', u'goto', u'gotta', u'gotten', u'gotto', u'goverment', u'govt', u'gower', u'gprs', u'gpu', u'gr8', u'gr8fun', u'gr8prizes', u'grab', u'grace', u'graduated', u'grahmbell', u'gram', u'grams', u'gran', u'grand', u'grandfather', u'grandma', u'grandmas', u'granite', u'granted', u'graphics', u'grasp', u'grateful', u'grave', u'gravel', u'gravity', u'gravy', u'gray', u'grazed', u'gre', u'great', u'greatest', u'greatly', u'greatness', u'greece', u'green', u'greet', u'greeting', u'greetings', u'grief', u'grinder', u'grins', u'grinule', u'grl', u'grocers', u'grooved', u'groovy', u'groovying', u'ground', u'group', u'grow', u'growing', u'grown', u'grownup', u'grr', u'grumble', u'grumpy', u'gsex', u'gsoh', u'gt', u'gua', u'guai', u'guarantee', u'guaranteed', u'gucci', u'gud', u'gudni8', u'gudnite', u'gudnyt', u'guess', u'guessed', u'guesses', u'guessin', u'guessing', u'guidance', u'guide', u'guides', u'guild', u'guilty', u'guitar', u'gumby', u'guoyang', u'gurl', u'gut', u'guy', u'guys', u'gv', u'gving', u'gym', u'gymnastics', u'gynae', u'gyno', u'ha', u'habba', u'habit', u'hack', u'had', u'hadn', u'haf', u'haha', u'hahaha', u'hai', u'hail', u'hair', u'haircut', u'hairdressers', u'haiyoh', u'haiz', u'half', u'half8th', u'hall', u'halla', u'hallaq', u'halloween', u'ham', u'hamper', u'hamster', u'hand', u'handed', u'handing', u'handle', u'hands', u'handset', u'handsome', u'handsomes', u'hang', u'hanger', u'hangin', u'hanging', u'hanks', u'hannaford', u'hanuman', u'hanumanji', u'happen', u'happend', u'happened', u'happenin', u'happening', u'happens', u'happier', u'happiest', u'happily', u'happiness', u'happy', u'hard', u'hardcore', u'harder', u'hardest', u'hardly', u'hari', u'harish', u'harlem', u'harri', u'harry', u'has', u'hasbro', u'hasn', u'hasnt', u'hassling', u'hat', u'hate', u'hates', u'haughaighgtujhyguj', u'haul', u'haunt', u'hav', u'hav2hear', u'hava', u'havbeen', u'have', u'havebeen', u'haven', u'havent', u'haventcn', u'havin', u'having', u'havn', u'havnt', u'hcl', u'hdd', u'he', u'head', u'headache', u'headin', u'heading', u'heads', u'headset', u'headstart', u'heal', u'healer', u'healthy', u'heap', u'hear', u'heard', u'hearin', u'hearing', u'heart', u'hearted', u'hearts', u'heat', u'heater', u'heaven', u'heavily', u'heavy', u'hectic', u'hee', u'heehee', u'hehe', u'height', u'held', u'helen', u'helens', u'hell', u'hella', u'hello', u'hellogorgeous', u'helloooo', u'help', u'help08700621170150p', u'help08714742804', u'help08718728876', u'helpful', u'helping', u'helpline', u'helps', u'heltini', u'hen', u'hence', u'henry', u'hep', u'her', u'here', u'hero', u'heroes', u'heron', u'herself', u'hes', u'hesitant', u'hesitate', u'hesitation', u'hex', u'hey', u'hf8', u'hg', u'hhahhaahahah', u'hi', u'hidden', u'hide', u'hides', u'hiding', u'high', u'highest', u'hilarious', u'hill', u'hills', u'hillsborough', u'him', u'himself', u'himso', u'hint', u'hip', u'hiphop', u'hire', u'his', u'history', u'hit', u'hitler', u'hitman', u'hits', u'hitter', u'hittng', u'hiya', u'hl', u'hlday', u'hlp', u'hm', u'hme', u'hmm', u'hmmm', u'hmmmm', u'hmmross', u'hmph', u'hmv', u'hmv1', u'ho', u'hockey', u'hogidhe', u'hogli', u'hogolo', u'hol', u'holby', u'hold', u'holder', u'holding', u'hole', u'holiday', u'holla', u'hollalater', u'hols', u'holy', u'home', u'homeowners', u'hon', u'honest', u'honestly', u'honesty', u'honey', u'honeybee', u'honeymoon', u'honi', u'hont', u'hoo', u'hooch', u'hoody', u'hook', u'hooked', u'hoops', u'hop', u'hope', u'hoped', u'hopeful', u'hopefully', u'hopeing', u'hopes', u'hopeso', u'hopeu', u'hoping', u'hor', u'horniest', u'horny', u'horo', u'horrible', u'horse', u'hos', u'hospital', u'hospitals', u'host', u'hostel', u'hostile', u'hot', u'hotel', u'hotels', u'hotmail', u'hotmix', u'hottest', u'hour', u'hourish', u'hours', u'house', u'houseful', u'housewives', u'housework', u'housing', u'how', u'howard', u'howda', u'howdy', u'however', u'hows', u'howu', u'howz', u'hp', u'hp20', u'hppnss', u'hr', u'hrishi', u'hrs', u'hsbc', u'html', u'http', u'hu', u'huai', u'hubby', u'hudgi', u'hug', u'huge', u'hugging', u'hugh', u'hugs', u'huh', u'hui', u'huiming', u'hum', u'humanities', u'humans', u'hun', u'hundred', u'hundreds', u'hungover', u'hungry', u'hunks', u'hunny', u'hunt', u'hunting', u'hurricanes', u'hurried', u'hurry', u'hurt', u'hurting', u'hurts', u'husband', u'hussey', u'hustle', u'hut', u'hv', u'hv9d', u'hvae', u'hw', u'hyde', u'hype', u'hypertension', u'hypotheticalhuagauahahuagahyuhagga', u'iam', u'ias', u'ibh', u'ibhltd', u'ibiza', u'ibm', u'ibn', u'ibored', u'ibuprofens', u'ic', u'iccha', u'ice', u'icic', u'icicibank', u'icky', u'icmb3cktz8r7', u'icon', u'id', u'idc', u'idea', u'ideal', u'ideas', u'identification', u'identifier', u'idew', u'idiot', u'idk', u'idps', u'idu', u'ie', u'if', u'iff', u'ifink', u'ig11', u'ignorant', u'ignore', u'ignoring', u'ihave', u'ijust', u'ikea', u'ikno', u'iknow', u'il', u'ileave', u'ill', u'illness', u'illspeak', u'ilol', u'im', u'image', u'images', u'imagination', u'imagine', u'imat', u'imf', u'img', u'imin', u'imma', u'immed', u'immediately', u'immunisation', u'imp', u'impatient', u'impede', u'implications', u'important', u'importantly', u'imposed', u'impossible', u'imposter', u'impress', u'impressed', u'impression', u'impressively', u'improve', u'improved', u'imprtant', u'in', u'in2', u'inc', u'inch', u'inches', u'incident', u'inclu', u'include', u'includes', u'including', u'inclusive', u'incomm', u'inconsiderate', u'inconvenience', u'inconvenient', u'incorrect', u'increase', u'incredible', u'increments', u'inde', u'indeed', u'independence', u'independently', u'index', u'india', u'indian', u'indians', u'indicate', u'individual', u'indyarocks', u'inever', u'infact', u'infections', u'infernal', u'influx', u'info', u'inform', u'information', u'informed', u'infra', u'infront', u'ing', u'ingredients', u'initiate', u'ink', u'inlude', u'inmind', u'inner', u'innings', u'innocent', u'innu', u'inperialmusic', u'inpersonation', u'inr', u'insects', u'insha', u'inshah', u'inside', u'inspection', u'inst', u'install', u'installation', u'installing', u'instant', u'instantly', u'instead', u'instituitions', u'instructions', u'insurance', u'intelligent', u'intend', u'intention', u'intentions', u'interest', u'interested', u'interesting', u'interflora', u'interfued', u'internal', u'internet', u'interview', u'interviews', u'interviw', u'intha', u'into', u'intrepid', u'intro', u'intrude', u'invaders', u'invention', u'invest', u'investigate', u'invitation', u'invite', u'invited', u'inviting', u'invnted', u'invoices', u'involve', u'involved', u'iouri', u'ip', u'ip4', u'ipad', u'ipaditan', u'ipads', u'iphone', u'ipod', u'iq', u'iraq', u'irene', u'iriver', u'iron', u'ironing', u'irritated', u'irritates', u'irritating', u'irritation', u'irulinae', u'is', u'isaiah', u'iscoming', u'ish', u'ishtamayoo', u'island', u'islands', u'isn', u'isnt', u'issue', u'issues', u'isv', u'it', u'italian', u'itcould', u'items', u'iter', u'ithink', u'itna', u'itried2tell', u'its', u'itself', u'itwhichturnedinto', u'itxt', u'itz', u'ivatte', u'ive', u'iwana', u'iwas', u'iyo', u'iz', u'izzit', u'j5q', u'j89', u'jabo', u'jack', u'jacket', u'jackpot', u'jackson', u'jacuzzi', u'jada', u'jade', u'jaklin', u'jam', u'james', u'jamster', u'jamz', u'jan', u'janarige', u'jane', u'janinexx', u'january', u'janx', u'jap', u'japanese', u'jas', u'jason', u'java', u'jay', u'jaya', u'jaykwon', u'jaz', u'jazz', u'jb', u'jd', u'je', u'jealous', u'jeans', u'jeetey', u'jeevithathile', u'jelly', u'jen', u'jenne', u'jenny', u'jenxxx', u'jeremiah', u'jeri', u'jerk', u'jerry', u'jersey', u'jess', u'jesus', u'jet', u'jetton', u'jewelry', u'jez', u'ji', u'jia', u'jiayin', u'jide', u'jiu', u'jjc', u'jo', u'joanna', u'job', u'jobs', u'jobyet', u'jocks', u'jod', u'jog', u'jogging', u'john', u'join', u'joined', u'joining', u'joke', u'joker', u'jokes', u'jokin', u'joking', u'jolly', u'jolt', u'jon', u'jones', u'jontin', u'jordan', u'jorge', u'jos', u'jot', u'journey', u'joy', u'joys', u'jp', u'js', u'jsco', u'jst', u'jstfrnd', u'jsut', u'juan', u'judgemental', u'juicy', u'jul', u'jules', u'juliana', u'julianaland', u'july', u'jump', u'jumpers', u'june', u'jungle', u'junna', u'jurong', u'jus', u'just', u'justbeen', u'justfound', u'justify', u'justthought', u'juswoke', u'juz', u'k52', u'k61', u'k718', u'kaaj', u'kadeem', u'kaiez', u'kaila', u'kaitlyn', u'kalaachutaarama', u'kalainar', u'kalisidare', u'kallis', u'kalstiya', u'kama', u'kanagu', u'kane', u'kanji', u'kano', u'kappa', u'karaoke', u'karnan', u'karo', u'kate', u'katexxx', u'kath', u'kavalan', u'kay', u'kaypoh', u'kb', u'ke', u'keen', u'keep', u'keeping', u'keeps', u'kegger', u'keluviri', u'ken', u'kent', u'kept', u'kerala', u'keralacircle', u'keris', u'kettoda', u'key', u'keypad', u'keys', u'keyword', u'kfc', u'kg', u'khelate', u'ki', u'kicchu', u'kick', u'kickboxing', u'kickoff', u'kicks', u'kid', u'kidding', u'kids', u'kidz', u'kiefer', u'kill', u'killed', u'killing', u'kills', u'kilos', u'kind', u'kinda', u'kindly', u'king', u'kingdom', u'kintu', u'kiosk', u'kip', u'kisi', u'kiss', u'kisses', u'kissing', u'kit', u'kittum', u'kitty', u'kl341', u'knackered', u'knee', u'knees', u'knew', u'knickers', u'knock', u'knocking', u'know', u'knowing', u'known', u'knows', u'knw', u'ko', u'kochi', u'kodstini', u'kodthini', u'kolathupalayam', u'konw', u'korche', u'korean', u'korli', u'korte', u'kotees', u'kothi', u'kr', u'ktv', u'kuch', u'kudi', u'kusruthi', u'kvb', u'kz', u'l8', u'l8er', u'l8r', u'l8rs', u'l8tr', u'la', u'la1', u'la3', u'la32wu', u'lab', u'labor', u'lac', u'lacking', u'lacs', u'laden', u'ladies', u'lady', u'lag', u'lage', u'lager', u'laid', u'lakhs', u'lambda', u'lambu', u'lamp', u'lancaster', u'land', u'landing', u'landline', u'landlineonly', u'landlines', u'landmark', u'lands', u'lane', u'langport', u'language', u'lanka', u'lanre', u'lap', u'lapdancer', u'laptop', u'lar', u'lara', u'laready', u'large', u'largest', u'lark', u'lasagna', u'last', u'lastest', u'lasting', u'late', u'lately', u'latelyxxx', u'later', u'latest', u'latests', u'latr', u'laugh', u'laughed', u'laughing', u'laughs', u'laundry', u'laurie', u'lautech', u'lavender', u'law', u'laxinorficated', u'lay', u'layin', u'laying', u'lays', u'lazy', u'lccltd', u'ld', u'ldew', u'ldn', u'ldnw15h', u'le', u'lead', u'leadership', u'leading', u'leads', u'leaf', u'leafcutter', u'league', u'leanne', u'learn', u'learned', u'least', u'least5times', u'leave', u'leaves', u'leaving', u'lect', u'lecture', u'lecturer', u'left', u'leftovers', u'leg', u'legal', u'legitimat', u'legs', u'leh', u'lei', u'lekdog', u'lemme', u'length', u'lengths', u'lennon', u'leo', u'leona', u'leonardo', u'les', u'less', u'lesser', u'lesson', u'lessons', u'let', u'lets', u'letter', u'letters', u'level', u'lf56', u'li', u'liao', u'lib', u'libertines', u'library', u'lick', u'licks', u'lido', u'lie', u'lies', u'life', u'lifebook', u'lifeis', u'lifetime', u'lifpartnr', u'lift', u'lifted', u'lifting', u'light', u'lighters', u'lightly', u'lik', u'like', u'liked', u'likely', u'likes', u'likeyour', u'liking', u'lil', u'lily', u'lim', u'limit', u'limited', u'limiting', u'limits', u'limping', u'lindsay', u'line', u'linear', u'lined', u'linerental', u'lines', u'lingerie', u'lingo', u'link', u'links', u'linux', u'lion', u'lionm', u'lionp', u'lions', u'lip', u'lipo', u'lips', u'liquor', u'list', u'listed', u'listen', u'listened2the', u'listener', u'listening', u'listening2the', u'listn', u'lists', u'lit', u'literally', u'litres', u'little', u'live', u'lived', u'liver', u'liverpool', u'lives', u'living', u'lk', u'lkpobox177hp51fl', u'll', u'llc', u'llspeak', u'lmao', u'lnly', u'lo', u'load', u'loads', u'loan', u'loans', u'lobby', u'local', u'location', u'locations', u'locaxx', u'lock', u'locks', u'lodge', u'lodging', u'log', u'logged', u'logging', u'login', u'logo', u'logoff', u'logon', u'logos', u'loko', u'lol', u'lolnice', u'lololo', u'londn', u'london', u'loneliness', u'lonely', u'long', u'longer', u'lonlines', u'loo', u'look', u'lookatme', u'looked', u'lookin', u'looking', u'looks', u'lool', u'loooooool', u'looovvve', u'loose', u'loosing', u'loosu', u'lor', u'lord', u'lose', u'losers', u'loses', u'losing', u'loss', u'lost', u'lot', u'lotr', u'lots', u'lotsly', u'lotsof', u'lotta', u'lotto', u'lotz', u'lou', u'loud', u'lounge', u'lousy', u'lov', u'lovable', u'love', u'loved', u'lovejen', u'lovely', u'loveme', u'lover', u'loverboy', u'lovers', u'loves', u'lovin', u'loving', u'lovingly', u'lovly', u'low', u'lower', u'lowes', u'loxahatchee', u'loyal', u'loyalty', u'lrg', u'ls1', u'ls15hb', u'ls278bb', u'lst', u'lt', u'ltd', u'ltdhelpdesk', u'lttrs', u'lubly', u'luck', u'luckily', u'lucky', u'lucozade', u'lucy', u'lucyxx', u'luks', u'lul', u'lunch', u'lunchtime', u'lunsford', u'lush', u'luton', u'luv', u'luvd', u'luvs', u'lux', u'luxury', u'lv', u'lvblefrnd', u'lyf', u'lyfu', u'lying', u'lyk', u'lyricalladie', u'lyrics', u'm100', u'm221bp', u'm227xy', u'm26', u'm263uz', u'm39m51', u'm6', u'm60', u'm8', u'm8s', u'm95', u'ma', u'maaaan', u'maangalyam', u'maat', u'mac', u'macedonia', u'macha', u'machan', u'machi', u'machines', u'macho', u'mack', u'macleran', u'macs', u'mad', u'mad1', u'mad2', u'madam', u'made', u'madodu', u'madoke', u'madstini', u'madurai', u'mag', u'maga', u'magazine', u'maggi', u'magic', u'magical', u'magicalsongs', u'mah', u'mahal', u'mahaveer', u'mahfuuz', u'maid', u'mail', u'mailbox', u'mailed', u'mails', u'main', u'maintain', u'maintaining', u'major', u'make', u'makes', u'makiing', u'makin', u'making', u'malaria', u'malarky', u'male', u'mall', u'mallika', u'man', u'manage', u'manageable', u'managed', u'management', u'manchester', u'manda', u'mandan', u'mandara', u'mandy', u'maneesha', u'manege', u'mango', u'maniac', u'manky', u'manual', u'many', u'map', u'mapquest', u'maps', u'maraikara', u'marandratha', u'march', u'maretare', u'margaret', u'margin', u'marine', u'mark', u'market', u'marketing', u'marking', u'marley', u'marrge', u'marriage', u'married', u'marry', u'marsms', u'maruti', u'marvel', u'mary', u'mas', u'masked', u'massage', u'massages', u'massive', u'masteriastering', u'masters', u'mat', u'match', u'matched', u'matches', u'mate', u'mates', u'math', u'mathe', u'mathematics', u'mathews', u'maths', u'matra', u'matric', u'matrix3', u'matter', u'matters', u'matthew', u'matured', u'maturity', u'max', u'max10mins', u'max6', u'maximize', u'maximum', u'may', u'mayb', u'maybe', u'mb', u'mc', u'mca', u'mcat', u'mcfly', u'mcr', u'me', u'meal', u'meals', u'mean', u'meaning', u'meaningful', u'meaningless', u'means', u'meant', u'meanwhile', u'measure', u'meat', u'meatballs', u'mecause', u'med', u'medical', u'medicine', u'meds', u'mee', u'meet', u'meetin', u'meeting', u'meetins', u'meets', u'meg', u'mega', u'meh', u'mei', u'meive', u'mel', u'melle', u'melnite', u'melody', u'melt', u'member', u'members', u'membership', u'memorable', u'memories', u'memory', u'men', u'mens', u'mental', u'mention', u'mentioned', u'mentionned', u'mentor', u'menu', u'meow', u'merely', u'merememberin', u'merry', u'mesages', u'mess', u'message', u'messaged', u'messages', u'messaging', u'messed', u'messenger', u'messy', u'met', u'method', u'mf', u'mfl', u'mgs', u'mi', u'mia', u'michael', u'mid', u'middle', u'midnight', u'mids', u'might', u'miiiiiiissssssssss', u'mike', u'mila', u'mileage', u'miles', u'milk', u'millers', u'million', u'millions', u'milta', u'min', u'mina', u'minapn', u'mind', u'minded', u'mindset', u'mine', u'minecraft', u'mini', u'minimum', u'minmobsmore', u'minmobsmorelkpobox177hp51fl', u'minmoremobsemspobox45po139wa', u'minnaminunginte', u'minor', u'mins', u'mint', u'minus', u'minute', u'minutes', u'minuts', u'miracle', u'mirror', u'mis', u'misbehaved', u'miserable', u'misfits', u'mising', u'misplaced', u'miss', u'misscall', u'missed', u'missin', u'missing', u'missionary', u'missions', u'misss', u'missunderstding', u'missy', u'mist', u'mistake', u'mistakes', u'misundrstud', u'mite', u'mitsake', u'mittelschmertz', u'miwa', u'mix', u'mj', u'mjzgroup', u'mk17', u'mk45', u'ml', u'mm', u'mmm', u'mmmm', u'mmmmm', u'mmmmmm', u'mmmmmmm', u'mmsto', u'mns', u'mnth', u'mnths', u'mo', u'moan', u'mob', u'mobcudb', u'mobile', u'mobiles', u'mobilesdirect', u'mobilesvary', u'mobileupd8', u'mobno', u'mobs', u'mobsi', u'mobstorequiz10ppm', u'moby', u'mobypobox734ls27yf', u'mode', u'model', u'modl', u'module', u'modules', u'mofo', u'moji', u'mojibiola', u'mokka', u'molested', u'mom', u'moment', u'moments', u'moms', u'mon', u'monday', u'mone', u'money', u'monkeespeople', u'monkey', u'monkeyaround', u'monkeys', u'mono', u'monoc', u'monos', u'monster', u'month', u'monthly', u'monthlysubscription', u'months', u'mood', u'moon', u'moral', u'more', u'morefrmmob', u'morn', u'mornin', u'morning', u'mornings', u'morphine', u'morrow', u'moseley', u'most', u'mostly', u'mother', u'motherfucker', u'motivate', u'motivating', u'motive', u'motor', u'motorola', u'mountain', u'mountains', u'mouse', u'mouth', u'move', u'moved', u'moves', u'movie', u'movies', u'movietrivia', u'moving', u'mp3', u'mquiz', u'mr', u'mre', u'mrng', u'mrt', u'ms', u'msg', u'msg150p', u'msging', u'msgrcvd', u'msgrcvd18', u'msgrcvdhg', u'msgs', u'msn', u'mt', u'mtalk', u'mth', u'mths', u'mtmsg', u'mtmsg18', u'mtmsgrcvd18', u'mtnl', u'mu', u'muah', u'much', u'muchand', u'muchxxlove', u'mudyadhu', u'mufti', u'muhommad', u'muht', u'multimedia', u'multiply', u'multis', u'mum', u'mumbai', u'mumhas', u'mummy', u'mums', u'mumtaz', u'mundhe', u'munsters', u'murali', u'murder', u'murdered', u'murderer', u'mus', u'mush', u'mushy', u'music', u'musical', u'musicnews', u'must', u'musta', u'musthu', u'mustprovide', u'mutai', u'mutations', u'muz', u'mw', u'mwahs', u'my', u'mycalls', u'mylife', u'mymoby', u'myparents', u'mys', u'myself', u'myspace', u'mystery', u'n8', u'n9dx', u'na', u'naal', u'nachos', u'nag', u'nagar', u'nah', u'nahi', u'nails', u'naked', u'nalla', u'nalli', u'name', u'name1', u'name2', u'named', u'names', u'nammanna', u'namous', u'nan', u'nange', u'nanny', u'nannys', u'nap', u'narcotics', u'nasdaq', u'naseeb', u'nasty', u'nat', u'nat27081980', u'natalie', u'natalie2k9', u'natalja', u'national', u'nationwide', u'nattil', u'natural', u'nature', u'natwest', u'naughty', u'nauseous', u'nav', u'navigate', u'nb', u'nbme', u'nd', u'ndship', u'ne', u'near', u'nearby', u'nearer', u'nearly', u'necesity', u'necessarily', u'necessary', u'necessity', u'neck', u'necklace', u'ned', u'need', u'needa', u'needed', u'needing', u'needle', u'needs', u'needy', u'neekunna', u'neft', u'negative', u'neglect', u'neglet', u'neighbor', u'neighbors', u'neighbour', u'neither', u'nelson', u'neo69', u'nervous', u'neshanth', u'net', u'netcollex', u'netflix', u'nething', u'netun', u'netvision', u'network', u'networking', u'networks', u'neva', u'nevamind', u'never', u'nevering', u'neville', u'nevr', u'new', u'neway', u'newest', u'newport', u'newquay', u'news', u'newscaster', u'newsletter', u'newspapers', u'next', u'nhs', u'ni8', u'nic', u'nice', u'nichols', u'nick', u'nickey', u'nicky', u'nig', u'nigeria', u'nigh', u'night', u'nighters', u'nightnight', u'nights', u'nigpun', u'nigro', u'nike', u'nikiyu4', u'nimbomsons', u'nimya', u'ninish', u'nino', u'nipost', u'nit', u'nite', u'nitro', u'nitros', u'nitw', u'nitz', u'njan', u'nmde', u'no', u'no1', u'nobbing', u'nobody', u'noe', u'noi', u'noice', u'noise', u'noisy', u'nok', u'nokia', u'nokia6600', u'nokia6650', u'nokias', u'noline', u'non', u'noncomittal', u'none', u'nonetheless', u'nookii', u'noon', u'nooooooo', u'noooooooo', u'nope', u'nor', u'nora', u'norcorp', u'nordstrom', u'norm', u'norm150p', u'normal', u'normally', u'north', u'northampton', u'nos', u'nose', u'nosh', u'nosy', u'not', u'note', u'notebook', u'notes', u'nothin', u'nothing', u'notice', u'notifications', u'notified', u'notixiquating', u'nottingham', u'notxt', u'noun', u'novelty', u'november', u'now', u'now1', u'nowadays', u'nowhere', u'noworriesloans', u'nr31', u'nri', u'nt', u'nte', u'ntimate', u'ntt', u'ntwk', u'nuclear', u'nudist', u'nuerologist', u'num', u'number', u'numbers', u'nursery', u'nurses', u'nurungu', u'nus', u'nusstu', u'nuther', u'nutter', u'nver', u'nvm', u'nvq', u'nw', u'nxt', u'ny', u'nyc', u'nydc', u'nyt', u'nytho', u'nz', u'n\\xecte', u'o2', u'o2fwd', u'oath', u'obedient', u'obese', u'obey', u'objection', u'oble', u'oblisingately', u'oblivious', u'obviously', u'occasion', u'occupied', u'occupy', u'occur', u'occurs', u'ocean', u'oclock', u'october', u'odalebeku', u'odi', u'of', u'ofcourse', u'off', u'offc', u'offcampus', u'offdam', u'offense', u'offer', u'offered', u'offering', u'offers', u'office', u'officer', u'official', u'officially', u'offline', u'ofice', u'ofsi', u'ofstuff', u'often', u'oga', u'ogunrinde', u'oh', u'oi', u'oic', u'oil', u'oja', u'ok', u'okay', u'okday', u'okden', u'okey', u'okie', u'okies', u'okmail', u'okors', u'ola', u'olage', u'olave', u'olayiwola', u'old', u'oli', u'ollu', u'olol', u'olowoyey', u'olympics', u'omg', u'omw', u'on', u'onam', u'onbus', u'oncall', u'once', u'ondu', u'one', u'ones', u'oni', u'onion', u'online', u'onluy', u'only', u'only1more', u'onlyfound', u'onto', u'onum', u'onwards', u'onwords', u'ooh', u'oooh', u'oooooh', u'ooooooh', u'oops', u'open', u'opened', u'opener', u'openin', u'opening', u'openings', u'operate', u'operator', u'opinion', u'opinions', u'opponenter', u'opportunity', u'opposed', u'opposite', u'opps', u'opt', u'opted', u'optimistic', u'optin', u'option', u'optout', u'or', u'or2optout', u'or2stoptxt', u'oral', u'orange', u'oranges', u'orc', u'orchard', u'order', u'ordered', u'ordinator', u'ore', u'oredi', u'oreo', u'oreos', u'org', u'organise', u'organizer', u'orh', u'orig', u'original', u'orno', u'ors', u'ortxt', u'oru', u'os', u'oscar', u'oso', u'otbox', u'other', u'others', u'otherwise', u'othrs', u'othrwise', u'otside', u'ou', u'ouch', u'our', u'ourbacks', u'ours', u'out', u'outage', u'outages', u'outbid', u'outdoors', u'outfit', u'outfor', u'outgoing', u'outl8r', u'outrageous', u'outreach', u'outs', u'outside', u'outsider', u'outsomewhere', u'outstanding', u'outta', u'ovarian', u'oveable', u'over', u'overa', u'overdid', u'overdose', u'overemphasise', u'overheating', u'overtime', u'ovr', u'ovulate', u'ovulation', u'ow', u'owe', u'owed', u'owl', u'own', u'owned', u'owns', u'owo', u'oxygen', u'oyea', u'oyster', u'oz', u'pa', u'paces', u'pack', u'package', u'packing', u'packs', u'padhe', u'page', u'pages', u'pai', u'paid', u'pain', u'painful', u'paining', u'painting', u'pairs', u'pale', u'palm', u'pan', u'panalam', u'panasonic', u'pandy', u'panic', u'panicks', u'panren', u'pansy', u'panther', u'panties', u'pants', u'pap', u'papa', u'paper', u'papers', u'paperwork', u'paracetamol', u'parachute', u'parade', u'paragon', u'paragraphs', u'paranoid', u'parantella', u'parchi', u'parco', u'parent', u'parents', u'paris', u'parish', u'park', u'parked', u'parkin', u'parking', u'part', u'participate', u'particular', u'particularly', u'parties', u'partner', u'partnership', u'parts', u'party', u'paru', u'pases', u'pass', u'passable', u'passed', u'passes', u'passion', u'passionate', u'passport', u'password', u'passwords', u'past', u'pataistha', u'patent', u'path', u'pathaya', u'paths', u'patients', u'patrick', u'pattern', u'patty', u'paul', u'pause', u'pavanaputra', u'pax', u'pay', u'payasam', u'payback', u'payed', u'payed2day', u'payee', u'paying', u'payment', u'payments', u'payoh', u'paypal', u'pc', u'pc1323', u'pdate_now', u'peace', u'peaceful', u'peach', u'peak', u'pears', u'pee', u'peeps', u'pehle', u'pei', u'pen', u'pence', u'pendent', u'pending', u'penis', u'penny', u'people', u'peoples', u'per', u'percent', u'percentages', u'perf', u'perfect', u'perform', u'performance', u'performed', u'perfume', u'perhaps', u'peril', u'period', u'peripherals', u'permanent', u'permission', u'permissions', u'perpetual', u'persevered', u'persian', u'persolvo', u'person', u'person2die', u'personal', u'personality', u'personally', u'persons', u'perspective', u'pert', u'perumbavoor', u'pesky', u'pest', u'pete', u'petexxx', u'petey', u'petrol', u'petticoatdreams', u'pg', u'ph', u'pharmacy', u'phasing', u'phb1', u'phd', u'phews', u'phil', u'philosophical', u'philosophy', u'phne', u'phoenix', u'phone', u'phone750', u'phonebook', u'phoned', u'phones', u'phony', u'photo', u'photos', u'photoshop', u'php', u'phrase', u'phyhcmk', u'physics', u'piah', u'pic', u'pick', u'picked', u'picking', u'pickle', u'pics', u'picsfree1', u'picture', u'pictures', u'pie', u'piece', u'pieces', u'pierre', u'pig', u'piggy', u'pilates', u'pile', u'pillows', u'pimples', u'pin', u'pink', u'pints', u'pisces', u'piss', u'pissed', u'pist', u'pity', u'pix', u'pixels', u'pizza', u'pl', u'place', u'placed', u'placement', u'places', u'plaid', u'plan', u'plane', u'planet', u'planettalkinstant', u'planned', u'planning', u'plans', u'plate', u'platt', u'play', u'played', u'player', u'players', u'playin', u'playing', u'playng', u'plaza', u'pleasant', u'please', u'pleased', u'pleassssssseeeeee', u'pleasure', u'pleasured', u'plenty', u'plm', u'ploughing', u'pls', u'plum', u'plumbers', u'plumbing', u'plural', u'plus', u'plyr', u'plz', u'pm', u'pmt', u'po', u'po19', u'pobox', u'pobox1', u'pobox114', u'pobox12n146tf15', u'pobox12n146tf150p', u'pobox202', u'pobox334', u'pobox36504w45wq', u'pobox365o4w45wq', u'pobox45w2tg150p', u'pobox75ldns7', u'pobox84', u'poboxox36504w45wq', u'pocay', u'pocked', u'pocketbabe', u'pockets', u'pocy', u'pod', u'poem', u'poet', u'point', u'points', u'poker', u'poking', u'pokkiri', u'pole', u'police', u'politicians', u'polo', u'poly', u'poly3', u'polyc', u'polyh', u'polyph', u'polyphonic', u'polys', u'pongal', u'ponnungale', u'poo', u'pooja', u'pookie', u'pool', u'poop', u'poor', u'poorly', u'poortiyagi', u'pop', u'popcorn', u'popped', u'popping', u'porn', u'porridge', u'port', u'portal', u'portege', u'portions', u'pos', u'pose', u'posh', u'posible', u'position', u'positions', u'positive', u'possession', u'possessive', u'possessiveness', u'possibility', u'possible', u'possibly', u'post', u'postal', u'postcard', u'postcode', u'posted', u'posting', u'postponed', u'posts', u'potato', u'potential', u'potter', u'pouch', u'pound', u'pounded', u'pounds', u'poured', u'pours', u'pouts', u'power', u'powerful', u'poyyarikatur', u'ppl', u'pple', u'ppm', u'ppm150', u'ppt150x3', u'prabha', u'prabu', u'pract', u'practical', u'practice', u'practicing', u'practicum', u'practising', u'praises', u'prakasam', u'prakasamanu', u'prakesh', u'praps', u'prasad', u'prasanth', u'prashanthettan', u'praveesh', u'pray', u'prayers', u'praying', u'prayrs', u'pre', u'predict', u'predicte', u'predicting', u'prediction', u'predictive', u'prefer', u'preferably', u'prem', u'premarica', u'premier', u'premium', u'prepaid', u'prepare', u'prepared', u'prepayment', u'preponed', u'preschoolco', u'prescribed', u'prescripiton', u'prescription', u'presence', u'present', u'presents', u'president', u'presleys', u'presnts', u'press', u'pressies', u'pressure', u'prestige', u'pretend', u'pretsorginta', u'pretsovru', u'pretty', u'prevent', u'previews', u'previous', u'previously', u'prey', u'price', u'prices', u'pride', u'priest', u'prin', u'prince', u'princes', u'princess', u'print', u'printed', u'printer', u'printing', u'prior', u'priority', u'priscilla', u'privacy', u'private', u'prix', u'priya', u'prize', u'prizeawaiting', u'prizes', u'prizeswith', u'pro', u'prob', u'probably', u'problem', u'problematic', u'problems', u'problms', u'problum', u'probpop', u'probs', u'probthat', u'process', u'processed', u'prods', u'products', u'prof', u'professional', u'professors', u'profile', u'profiles', u'profit', u'program', u'programs', u'progress', u'project', u'projects', u'prolly', u'prometazine', u'prominent', u'promise', u'promised', u'promises', u'promo', u'promoting', u'promotion', u'promptly', u'prompts', u'prone', u'proof', u'proove', u'proper', u'properly', u'property', u'propose', u'props', u'propsd', u'pros', u'prospects', u'protect', u'prove', u'proverb', u'provided', u'provider', u'providing', u'province', u'proze', u'prsn', u'ps', u'ps3', u'pshew', u'psp', u'psxtra', u'psychiatrist', u'psychic', u'psychologist', u'pt2', u'ptbo', u'pthis', u'pub', u'public', u'publish', u'pubs', u'pudunga', u'pull', u'pulling', u'pulls', u'pump', u'punch', u'punish', u'punishment', u'punj', u'punto', u'puppy', u'pura', u'purchase', u'purchases', u'pure', u'purity', u'purple', u'purpose', u'purse', u'push', u'pushbutton', u'pushes', u'pussy', u'put', u'puts', u'puttin', u'putting', u'puzzeles', u'puzzles', u'px3748', u'qatar', u'qbank', u'qet', u'qi', u'qing', u'qjkgighjjgcbl', u'qlynnbv', u'quality', u'quarter', u'que', u'queen', u'queries', u'ques', u'question', u'questioned', u'questions', u'quick', u'quickly', u'quiet', u'quit', u'quite', u'quiteamuzing', u'quitting', u'quiz', u'quizclub', u'quizzes', u'quote', u'quoting', u'r836', u'racal', u'racing', u'radiator', u'radio', u'raed', u'rael', u'raglan', u'rahul', u'raiden', u'railway', u'rain', u'raining', u'raise', u'raised', u'raj', u'rajas', u'raji', u'rajini', u'rajitha', u'rajnikant', u'rakhesh', u'raksha', u'rally', u'ralphs', u'ramaduth', u'ramen', u'ran', u'random', u'randomlly', u'randomly', u'randy', u'rang', u'range', u'ranjith', u'ranju', u'raping', u'rate', u'rates', u'rather', u'ratio', u'rats', u'raviyog', u'rawring', u'rayan', u'rayman', u'rays', u'rcb', u'rcd', u'rct', u'rcv', u'rcvd', u'rd', u'rdy', u're', u'reach', u'reache', u'reached', u'reaching', u'reacting', u'reaction', u'read', u'readers', u'readiness', u'reading', u'ready', u'real', u'real1', u'realise', u'realised', u'realising', u'reality', u'realize', u'realized', u'realizes', u'really', u'reallyneed', u'realy', u'reapply', u'rearrange', u'reason', u'reasonable', u'reasons', u'reassurance', u'reassuring', u'rebel', u'reboot', u'rebooting', u'rebtel', u'rec', u'recd', u'receipt', u'receipts', u'receive', u'receivea', u'received', u'receiving', u'recent', u'recently', u'reception', u'recession', u'recharge', u'recharged', u'recieve', u'reckon', u'recognise', u'recognises', u'record', u'recorded', u'recorder', u'records', u'recount', u'recovery', u'recpt', u'recreation', u'recycling', u'red', u'redeemable', u'redeemed', u'reduce', u'ree', u'ref', u'reference', u'references', u'referin', u'reffering', u'refilled', u'reflection', u'reflex', u'reformat', u'refreshed', u'refund', u'refunded', u'refused', u'reg', u'regalportfolio', u'regard', u'regarding', u'regards', u'register', u'registered', u'registration', u'regret', u'regretted', u'regular', u'rejected', u'related', u'relation', u'relationship', u'relatives', u'relax', u'relaxing', u'released', u'reliant', u'relieved', u'religiously', u'relocate', u'reltnship', u'rem', u'remain', u'remains', u'remb', u'remember', u'remembered', u'rememberi', u'remembr', u'remembrs', u'remind', u'reminded', u'reminder', u'reminding', u'reminds', u'remixed', u'removal', u'remove', u'removed', u'rencontre', u'renewal', u'renewed', u'renewing', u'rent', u'rental', u'renting', u'rentl', u'rents', u'repair', u'repairs', u'repeat', u'repeating', u'repent', u'replace', u'replacement', u'replacing', u'replied', u'replies', u'reply', u'replying', u'replys150', u'report', u'reppurcussions', u'representative', u'republic', u'request', u'requests', u'require', u'required', u'requirements', u'requires', u'research', u'resend', u'resent', u'reservations', u'reserve', u'reserved', u'reserves', u'reset', u'residency', u'resizing', u'reslove', u'resolution', u'resolved', u'resort', u'respect', u'respectful', u'responce', u'respond', u'responding', u'response', u'responsibilities', u'responsibility', u'responsible', u'rest', u'restaurant', u'restock', u'restocked', u'restrict', u'restrictions', u'resubbing', u'resubmit', u'result', u'results', u'resume', u'resuming', u'retard', u'retired', u'retrieve', u'return', u'returned', u'returning', u'returns', u'reunion', u'reveal', u'revealed', u'revealing', u'reverse', u'review', u'revision', u'reward', u'rewarding', u'rg21', u'rgds', u'rgent', u'rhode', u'rhythm', u'rice', u'rich', u'riddance', u'ridden', u'ride', u'right', u'rightio', u'rightly', u'rights', u'riley', u'rimac', u'ring', u'ringing', u'rings', u'ringtone', u'ringtoneking', u'ringtones', u'rinu', u'rip', u'ripped', u'rise', u'risk', u'risks', u'rite', u'ritten', u'river', u'road', u'roads', u'roast', u'rob', u'robinson', u'robs', u'rock', u'rocking', u'rocks', u'rodds1', u'rodger', u'rofl', u'roger', u'role', u'roles', u'rolled', u'roller', u'romantic', u'romcapspam', u'ron', u'room', u'roomate', u'roommate', u'roommates', u'rooms', u'ros', u'rose', u'roses', u'rough', u'round', u'rounder', u'rounds', u'route', u'row', u'rowdy', u'rows', u'royal', u'rp176781', u'rpl', u'rply', u'rr', u'rs', u'rstm', u'rt', u'rtf', u'rtm', u'rto', u'ru', u'rub', u'rubber', u'rude', u'rudi', u'rugby', u'ruin', u'ruining', u'rule', u'rules', u'rum', u'rumbling', u'rummer', u'rumour', u'run', u'running', u'runs', u'rupaul', u'rush', u'rushing', u'ruthful', u'rv', u'rvx', u'rwm', u'ryan', u'ryder', u's3xy', u's89', u'sabarish', u'sac', u'sachin', u'sack', u'sacked', u'sacrifice', u'sad', u'sae', u'saeed', u'safe', u'safely', u'safety', u'sagamu', u'saibaba', u'said', u'sake', u'salad', u'salam', u'salary', u'sale', u'sales', u'salesman', u'sall', u'salmon', u'salon', u'salt', u'sam', u'samachara', u'samantha', u'sambar', u'same', u'samus', u'sandiago', u'sane', u'sang', u'sankatmochan', u'sankranti', u'santa', u'santacalling', u'sao', u'sapna', u'sar', u'sara', u'sarasota', u'sarcasm', u'sarcastic', u'saristar', u'sariyag', u'sary', u'sashimi', u'sat', u'satanic', u'sathy', u'sathya', u'satisfied', u'satisfy', u'satsgettin', u'satthen', u'saturday', u'saucy', u'sausage', u'savamob', u'save', u'saved', u'saves', u'savings', u'saw', u'say', u'sayhey', u'sayin', u'saying', u'says', u'sayy', u'sc', u'scallies', u'scammers', u'scarcasim', u'scared', u'scary', u'scenario', u'scenery', u'sch', u'schedule', u'school', u'schools', u'science', u'scold', u'scool', u'scorable', u'score', u'scores', u'scoring', u'scotch', u'scotland', u'scotsman', u'scouse', u'scraped', u'scrappy', u'scratches', u'scratching', u'scream', u'screamed', u'screaming', u'screen', u'screwd', u'scrounge', u'scrumptious', u'sculpture', u'sd', u'sday', u'sdryb8i', u'se', u'sea', u'search', u'searching', u'season', u'seat', u'sec', u'second', u'secondary', u'seconds', u'secret', u'secretary', u'secretly', u'secrets', u'secs', u'section', u'sections', u'secure', u'secured', u'sed', u'see', u'seeds', u'seeing', u'seekers', u'seeking', u'seem', u'seemed', u'seems', u'seen', u'sef', u'seh', u'sehwag', u'seing', u'select', u'selected', u'selection', u'self', u'selfindependence', u'selfish', u'selflessness', u'sell', u'selling', u'sells', u'sem', u'semester', u'semi', u'semiobscure', u'sen', u'send', u'sender', u'sending', u'sends', u'senor', u'senrd', u'sense', u'senses', u'sensible', u'sensitive', u'sent', u'sentence', u'senthil', u'sentiment', u'seperated', u'sept', u'september', u'serena', u'series', u'serious', u'seriously', u'served', u'server', u'service', u'services', u'serving', u'servs', u'set', u'setting', u'settings', u'settle', u'settled', u'settling', u'seven', u'seventeen', u'several', u'sex', u'sexiest', u'sextextuk', u'sexual', u'sexy', u'sexychat', u'sez', u'sf', u'sg', u'sh', u'sha', u'shade', u'shadow', u'shag', u'shagged', u'shah', u'shahjahan', u'shakara', u'shake', u'shakespeare', u'shaking', u'shall', u'shame', u'shampain', u'shangela', u'shanghai', u'shanil', u'shant', u'shaping', u'share', u'shared', u'sharing', u'shattered', u'shaved', u'shb', u'shd', u'she', u'sheet', u'sheets', u'sheffield', u'shelf', u'shell', u'shelves', u'sherawat', u'shes', u'shesil', u'shexy', u'shhhhh', u'shifad', u'shijas', u'shijutta', u'shinco', u'shindig', u'shining', u'shiny', u'ship', u'shipped', u'shipping', u'shirt', u'shirts', u'shit', u'shite', u'shitin', u'shitinnit', u'shitload', u'shitstorm', u'shivratri', u'shld', u'shldxxxx', u'shock', u'shocking', u'shoes', u'shola', u'shoot', u'shop', u'shoppin', u'shopping', u'shoranur', u'shore', u'short', u'shortage', u'shortbreaks', u'shortcode', u'shorter', u'shortly', u'shorts', u'shot', u'shoul', u'should', u'shoulders', u'shouldn', u'shouted', u'shouting', u'shove', u'shoving', u'show', u'showed', u'shower', u'showered', u'showers', u'showing', u'showr', u'showrooms', u'shows', u'shracomorsglsuplt', u'shrek', u'shrink', u'shrub', u'shsex', u'shu', u'shud', u'shudvetold', u'shuhui', u'shun', u'shut', u'shy', u'si', u'sian', u'sib', u'sic', u'sick', u'sickness', u'side', u'sigh', u'sighs', u'sight', u'sign', u'signal', u'significance', u'significant', u'signin', u'signing', u'siguviri', u'silence', u'silent', u'silently', u'silly', u'silver', u'sim', u'simonwatson5120', u'simple', u'simpler', u'simply', u'simpsons', u'simulate', u'since', u'sinco', u'sindu', u'sing', u'singapore', u'singing', u'single', u'singles', u'sink', u'sip', u'sipix', u'sips', u'sir', u'sirji', u'sis', u'sister', u'sisters', u'sit', u'site', u'sitll', u'sitter', u'sittin', u'sitting', u'situation', u'situations', u'siva', u'six', u'size', u'sized', u'sk3', u'sk38xh', u'skateboarding', u'skilgme', u'skillgame', u'skills', u'skinny', u'skins', u'skint', u'skip', u'skirt', u'sky', u'skye', u'skype', u'skyped', u'skyving', u'slaaaaave', u'slacking', u'slap', u'slave', u'sleep', u'sleepin', u'sleeping', u'sleepingwith', u'sleeps', u'sleepwell', u'sleepy', u'slept', u'slice', u'slices', u'slide', u'sliding', u'slightly', u'slip', u'slippers', u'slippery', u'slo', u'slob', u'slots', u'slovely', u'slow', u'slower', u'slowing', u'slowly', u'slp', u'slurp', u'smacks', u'small', u'smaller', u'smart', u'smartcall', u'smarter', u'smash', u'smashed', u'smear', u'smell', u'smells', u'smeone', u'smidgin', u'smile', u'smiled', u'smiles', u'smiley', u'smiling', u'smith', u'smoke', u'smoked', u'smokes', u'smokin', u'smoking', u'smoothly', u'sms', u'smsco', u'smsing', u'smsrewards', u'smsservices', u'smth', u'sn', u'snake', u'snap', u'snappy', u'snatch', u'snd', u'sneham', u'snickering', u'snogs', u'snoring', u'snot', u'snow', u'snowball', u'snowboarding', u'snowman', u'snuggles', u'so', u'soc', u'sochte', u'social', u'sofa', u'soft', u'software', u'soil', u'soiree', u'sol', u'soladha', u'sold', u'solihull', u'solve', u'solved', u'some', u'some1', u'somebody', u'someday', u'someone', u'someonone', u'someplace', u'somerset', u'sometext', u'somethin', u'something', u'sometime', u'sometimes', u'sometme', u'somewhat', u'somewhere', u'somewheresomeone', u'somewhr', u'somone', u'somtimes', u'sonathaya', u'sonetimes', u'song', u'songs', u'sony', u'sonyericsson', u'soo', u'soon', u'sooner', u'soonlots', u'sooo', u'soooo', u'sooooo', u'sophas', u'sore', u'sorrow', u'sorrows', u'sorry', u'sort', u'sorta', u'sorted', u'sorting', u'sorts', u'sory', u'soryda', u'sos', u'soul', u'sound', u'sounding', u'sounds', u'soundtrack', u'soup', u'source', u'sources', u'south', u'southern', u'souveniers', u'soz', u'sozi', u'sp', u'space', u'spacebucks', u'spaces', u'spageddies', u'spain', u'spam', u'spanish', u'spare', u'spares', u'spark', u'sparkling', u'spatula', u'speak', u'speaking', u'special', u'speciale', u'specialisation', u'specialise', u'specially', u'specific', u'specify', u'specs', u'speechless', u'speed', u'speedchat', u'speeding', u'speling', u'spell', u'spelled', u'spelling', u'spend', u'spending', u'spent', u'sphosting', u'spice', u'spider', u'spiffing', u'spile', u'spin', u'spinout', u'spiral', u'spirit', u'spiritual', u'spjanuary', u'spk', u'spl', u'splash', u'splashmobile', u'splat', u'splendid', u'split', u'splleing', u'spoil', u'spoiled', u'spoilt', u'spoke', u'spoken', u'sponsors', u'spontaneously', u'spook', u'spoon', u'spoons', u'sporadically', u'sport', u'sports', u'sportsx', u'spose', u'spot', u'spotty', u'spouse', u'sppok', u'spreadsheet', u'spree', u'spring', u'springs', u'sprint', u'sptv', u'spun', u'spys', u'sq825', u'squatting', u'squeeeeeze', u'squeezed', u'squid', u'squishy', u'srs', u'srsly', u'srt', u'sry', u'st', u'stability', u'stable', u'stadium', u'staff', u'stage', u'stagwood', u'stairs', u'stalk', u'stalking', u'stamped', u'stamps', u'stand', u'standard', u'standing', u'stands', u'stapati', u'star', u'starer', u'staring', u'starring', u'stars', u'starshine', u'start', u'started', u'starting', u'starts', u'starve', u'starving', u'starwars3', u'stash', u'stated', u'statement', u'statements', u'station', u'status', u'stay', u'stayed', u'stayin', u'staying', u'stays', u'std', u'stdtxtrate', u'steak', u'steal', u'stealing', u'steam', u'steamboat', u'steed', u'steering', u'step', u'steps', u'stereo', u'stereophonics', u'sterling', u'sterm', u'steve', u'stewartsize', u'steyn', u'sth', u'stick', u'sticky', u'stifled', u'stil', u'still', u'stink', u'stitch', u'stock', u'stocked', u'stockport', u'stolen', u'stomach', u'stomps', u'stone', u'stoners', u'stones', u'stool', u'stop', u'stop2', u'stop2stop', u'stopbcm', u'stopcost', u'stopcs', u'stopped', u'stops', u'stopsms', u'stoptxtstop', u'store', u'stores', u'stories', u'storming', u'story', u'str', u'str8', u'straight', u'strain', u'strange', u'stranger', u'stream', u'street', u'stress', u'stressed', u'stressful', u'stressfull', u'stretch', u'strewn', u'strict', u'strike', u'strings', u'strip', u'stripes', u'strips', u'strokes', u'strong', u'strongly', u'strt', u'strtd', u'struggling', u'sts', u'stu', u'stubborn', u'stuck', u'studdying', u'student', u'studentfinancial', u'students', u'studies', u'studio', u'study', u'studying', u'studyn', u'stuff', u'stuff42moro', u'stuffed', u'stuffing', u'stuffs', u'stunning', u'stupid', u'style', u'styles', u'styling', u'stylish', u'stylist', u'sub', u'subject', u'subletting', u'submitted', u'submitting', u'subpoly', u'subs', u'subs16', u'subscribe', u'subscribe6gbp', u'subscribed', u'subscriber', u'subscribers', u'subscription', u'subscriptions', u'subscriptn3gbp', u'subscrition', u'subsequent', u'subtoitles', u'success', u'successful', u'successfully', u'such', u'sucker', u'suckers', u'sucks', u'sudden', u'suddenly', u'sudn', u'sue', u'suffer', u'suffering', u'suffers', u'sufficient', u'sugababes', u'suganya', u'sugar', u'sugardad', u'suggest', u'suggestion', u'suggestions', u'suite', u'suite342', u'suitemates', u'suits', u'sullivan', u'sum', u'sum1', u'suman', u'sumfing', u'summer', u'summers', u'summon', u'sumthin', u'sun', u'sun0819', u'sunday', u'sundayish', u'sunlight', u'sunny', u'sunoco', u'sunroof', u'sunscreen', u'sunshine', u'suntec', u'sup', u'super', u'superb', u'superior', u'supervisor', u'suply', u'supose', u'suppliers', u'supplies', u'supply', u'support', u'supports', u'suppose', u'supposed', u'supreme', u'suprman', u'sura', u'sure', u'surely', u'surf', u'surfing', u'surgical', u'surly', u'surname', u'surprise', u'surprised', u'surrender', u'surrounded', u'survey', u'surya', u'sutra', u'sux', u'suzy', u'svc', u'sw7', u'sw73ss', u'swalpa', u'swan', u'swann', u'swap', u'swashbuckling', u'swat', u'swatch', u'sway', u'swayze', u'swear', u'sweater', u'sweatter', u'sweet', u'sweetest', u'sweetheart', u'sweetie', u'sweets', u'swell', u'swhrt', u'swimming', u'swimsuit', u'swing', u'swiss', u'switch', u'swollen', u'swoop', u'swt', u'swtheart', u'syd', u'syllabus', u'symbol', u'sympathetic', u'symptoms', u'synced', u'syria', u'syrup', u'system', u'systems', u't4get2text', u't91', u'ta', u'table', u'tablet', u'tablets', u'tackle', u'tacos', u'tactful', u'tactless', u'tag', u'tagged', u'tahan', u'tai', u'tait', u'taj', u'taka', u'take', u'takecare', u'taken', u'takes', u'takin', u'taking', u'talent', u'talents', u'talk', u'talkbut', u'talked', u'talkin', u'talking', u'talks', u'tall', u'tallahassee', u'tallent', u'tamilnadu', u'tampa', u'tank', u'tantrum', u'tap', u'tape', u'tariffs', u'tarot', u'tarpon', u'taste', u'tasts', u'tat', u'tata', u'tats', u'tattoos', u'tau', u'taught', u'taunton', u'taxes', u'taxi', u'taxless', u'taxt', u'taylor', u'tayseer', u'tb', u'tbs', u'tc', u'tcr', u'tcs', u'tddnewsletter', u'tea', u'teach', u'teacher', u'teachers', u'teaches', u'teaching', u'team', u'teams', u'tear', u'tears', u'tease', u'teasing', u'tech', u'technical', u'technologies', u'tee', u'teenager', u'teeth', u'teju', u'tel', u'telediscount', u'telephone', u'telephonic', u'teletext', u'tell', u'telling', u'tellmiss', u'tells', u'telly', u'telphone', u'telugu', u'temales', u'temp', u'temper', u'temple', u'ten', u'tenants', u'tendencies', u'tenerife', u'tensed', u'tension', u'teresa', u'term', u'terminated', u'terms', u'termsapply', u'ternal', u'terrible', u'terrific', u'terror', u'terrorist', u'terry', u'tescos', u'tessy', u'test', u'testing', u'tests', u'tex', u'texas', u'texd', u'text', u'text82228', u'textand', u'textbook', u'textbuddy', u'textcomp', u'texted', u'textin', u'texting', u'textoperator', u'textpod', u'texts', u'tgxxrz', u'th', u'than', u'thandiyachu', u'thangam', u'thank', u'thanks', u'thanks2', u'thanksgiving', u'thanku', u'thankyou', u'thanx', u'thanx4', u'thasa', u'that', u'that2worzels', u'thatmum', u'thats', u'the', u'the4th', u'theacusations', u'theater', u'theatre', u'thecd', u'thedailydraw', u'their', u'theirs', u'thekingshead', u'them', u'themed', u'themes', u'themob', u'then', u'thenampet', u'theoretically', u'theory', u'theplace', u'thepub', u'there', u'theres', u'these', u'thesedays', u'thesis', u'thesmszone', u'thet', u'thew', u'they', u'theyre', u'thgt', u'thia', u'thin', u'thing', u'things', u'think', u'thinked', u'thinkin', u'thinking', u'thinks', u'thinkthis', u'thinl', u'thirtyeight', u'thirunelvali', u'this', u'thk', u'thkin', u'thm', u'thnk', u'thnq', u'thnx', u'tho', u'those', u'thot', u'thou', u'though', u'thought', u'thoughts', u'thousands', u'thout', u'thread', u'threats', u'three', u'threw', u'thriller', u'throat', u'through', u'throw', u'throwin', u'throwing', u'thrown', u'throws', u'thru', u'ths', u'tht', u'thts', u'thuglyfe', u'thurs', u'thursday', u'thus', u'thx', u'thy', u'tick', u'ticket', u'tickets', u'tie', u'tiempo', u'tiger', u'tight', u'tightly', u'tigress', u'tihs', u'tiime', u'til', u'till', u'tim', u'time', u'times', u'timi', u'timin', u'timing', u'timings', u'tiny', u'tip', u'tips', u'tired', u'tiring', u'tirunelvai', u'tirunelvali', u'tirupur', u'tis', u'tissco', u'title', u'titles', u'tiwary', u'tix', u'tiz', u'tke', u'tkls', u'tkts', u'tlk', u'tlp', u'tm', u'tming', u'tmorow', u'tmorrow', u'tmr', u'tmrw', u'tms', u'tmw', u'tnc', u'tncs', u'to', u'toa', u'toaday', u'tobacco', u'tobed', u'tocall', u'toclaim', u'today', u'todays', u'todo', u'tog', u'together', u'tohar', u'toilet', u'tok', u'token', u'toking', u'tol', u'told', u'toledo', u'tolerance', u'tolerat', u'toll', u'tom', u'tomarrow', u'tome', u'tomeandsaid', u'tomo', u'tomorro', u'tomorrow', u'tomorw', u'tone', u'tones', u'tones2u', u'tones2you', u'tonexs', u'tonght', u'tongued', u'tonight', u'tonights', u'tonite', u'tons', u'tonsolitusaswell', u'too', u'took', u'tookplace', u'tool', u'tooo', u'toot', u'tooth', u'toothpaste', u'tootsie', u'top', u'topic', u'toplay', u'topped', u'toppoly', u'tops', u'tor', u'torch', u'torrents', u'tortilla', u'torture', u'tosend', u'toshiba', u'toss', u'tot', u'total', u'totally', u'totes', u'touch', u'touched', u'tough', u'toughest', u'tour', u'towards', u'town', u'toxic', u'toyota', u'tp', u'track', u'trackmarque', u'trade', u'traditions', u'traffic', u'train', u'trained', u'training', u'trainners', u'trains', u'tram', u'tranquility', u'transaction', u'transcribing', u'transfer', u'transfered', u'transferred', u'transfr', u'transfred', u'transport', u'trash', u'trauma', u'trav', u'travel', u'traveling', u'travelled', u'travelling', u'treacle', u'treadmill', u'treasure', u'treat', u'treated', u'treatin', u'treats', u'trebles', u'tree', u'trek', u'trends', u'trial', u'tried', u'trip', u'triple', u'trips', u'trishul', u'triumphed', u'trivia', u'tron', u'trouble', u'troubleshooting', u'trouser', u'truble', u'truck', u'true', u'true18', u'truffles', u'truly', u'truro', u'trust', u'trusting', u'truth', u'try', u'tryin', u'trying', u'ts', u'tsandcs', u'tscs', u'tscs08714740323', u'tscs087147403231winawk', u'tsunami', u'tsunamis', u'tt', u'ttyl', u'tue', u'tues', u'tuesday', u'tui', u'tuition', u'tul', u'tulip', u'tunde', u'tune', u'tunji', u'turkeys', u'turn', u'turned', u'turning', u'turns', u'tuth', u'tv', u'twat', u'twelve', u'twenty', u'twice', u'twiggs', u'twilight', u'twinks', u'twins', u'twittering', u'two', u'tx', u'txt', u'txt250', u'txt43', u'txt82228', u'txtauction', u'txtin', u'txting', u'txtno', u'txts', u'txtstar', u'txtstop', u'txttowin', u'txtx', u'tyler', u'type', u'types', u'typical', u'tyrone', u'u2moro', u'u4', u'uawake', u'ubandu', u'ubi', u'ugadi', u'ugh', u'ugo', u'uh', u'uhhhhrmm', u'uin', u'ujhhhhhhh', u'uk', u'ukp', u'uks', u'ultimate', u'ultimately', u'ultimatum', u'um', u'umma', u'ummifying', u'ummma', u'ummmmmaah', u'un', u'unable', u'unbelievable', u'unbreakable', u'unclaimed', u'uncle', u'uncles', u'uncomfortable', u'unconditionally', u'unconscious', u'unconsciously', u'unconvinced', u'uncountable', u'uncut', u'under', u'underdtand', u'understand', u'understanding', u'understood', u'underwear', u'undrstnd', u'undrstndng', u'unemployed', u'uneventful', u'unfolds', u'unfortunately', u'unfortuntly', u'unhappiness', u'unhappy', u'uni', u'unicef', u'uniform', u'unintentional', u'unintentionally', u'unique', u'united', u'units', u'univ', u'university', u'unjalur', u'unkempt', u'unknown', u'unless', u'unlike', u'unlimited', u'unmits', u'unnecessarily', u'unni', u'unrecognized', u'unredeemed', u'unsecured', u'unsold', u'unspoken', u'unsub', u'unsubscribe', u'unsubscribed', u'untamed', u'until', u'unusual', u'up', u'up4', u'upcharge', u'upd8', u'updat', u'update', u'update_now', u'upgrade', u'upgrading', u'upgrdcentre', u'upload', u'uploaded', u'upon', u'upping', u'ups', u'upset', u'upstairs', u'upto', u'uptown', u'ur', u'urawinner', u'ure', u'urfeeling', u'urgent', u'urgently', u'urgh', u'urgnt', u'urgoin', u'urgran', u'urination', u'url', u'urmom', u'urn', u'urself', u'us', u'usa', u'usb', u'usc', u'use', u'used', u'useful', u'useless', u'user', u'uses', u'usf', u'usher', u'using', u'usmle', u'usps', u'usual', u'usually', u'uterus', u'utter', u'uttered', u'uup', u'uv', u'uve', u'uwana', u'uwant', u'uworld', u'va', u'vaazhthukkal', u'vague', u'vaguely', u'vale', u'valentine', u'valentines', u'valid', u'valid12hrs', u'valuable', u'value', u'valued', u'values', u'valuing', u'varaya', u'vargu', u'various', u'varma', u'varunnathu', u'vary', u'vasai', u'vat', u'vatian', u'vava', u'vco', u'vday', u've', u'vegas', u'vegetables', u'veggie', u'vehicle', u'velachery', u'velly', u'velusamy', u'venaam', u'venugopal', u'verified', u'verify', u'verifying', u'version', u'versus', u'very', u'vettam', u'vewy', u'via', u'vibrant', u'vibrate', u'vibrator', u'vic', u'victoria', u'victors', u'vid', u'video', u'videochat', u'videophones', u'videos', u'videosound', u'videosounds', u'view', u'vijay', u'vijaykanth', u'vikky', u'vilikkam', u'vill', u'villa', u'village', u'vinobanagar', u'violated', u'violence', u'violet', u'vip', u'vipclub4u', u'virgil', u'virgin', u'virgins', u'virtual', u'visa', u'visionsms', u'visit', u'visiting', u'visitor', u'visitors', u'vital', u'vitamin', u'viva', u'vivek', u'vivekanand', u'vl', u'voda', u'vodafone', u'vodka', u'voice', u'voicemail', u'voila', u'volcanoes', u'vomit', u'vomitin', u'vomiting', u'vote', u'voted', u'vouch4me', u'voucher', u'vouchers', u'vpod', u'vry', u'vs', u'vth', u'vu', u'w1', u'w111wx', u'w14rg', u'w1a', u'w1j', u'w1j6hl', u'w1jhl', u'w1t1jy', u'w4', u'w45wq', u'w8in', u'wa', u'wa14', u'waaaat', u'wad', u'wadebridge', u'wah', u'wahala', u'wahay', u'waheed', u'waheeda', u'wahleykkum', u'waht', u'wait', u'waited', u'waitin', u'waiting', u'wake', u'waking', u'wales', u'waliking', u'walk', u'walkabout', u'walked', u'walkin', u'walking', u'walks', u'wall', u'wallet', u'wallpaper', u'walls', u'walmart', u'walsall', u'wamma', u'wan', u'wan2', u'wana', u'wanna', u'wannatell', u'want', u'want2come', u'wanted', u'wanting', u'wants', u'wap', u'waqt', u'warm', u'warming', u'warned', u'warner', u'warning', u'warranty', u'warwick', u'was', u'washob', u'wasn', u'wasnt', u'waste', u'wasted', u'wasting', u'wat', u'watch', u'watched', u'watches', u'watchin', u'watching', u'watchng', u'water', u'watever', u'watevr', u'wating', u'watr', u'wats', u'watts', u'wave', u'wavering', u'waves', u'way', u'way2sms', u'waz', u'wc1n', u'wc1n3xx', u'we', u'weak', u'weakness', u'weaknesses', u'weapon', u'wear', u'wearing', u'weaseling', u'weasels', u'weather', u'web', u'web2mobile', u'webadres', u'webeburnin', u'webpage', u'website', u'wed', u'weddin', u'wedding', u'weddingfriend', u'wedlunch', u'wednesday', u'weds', u'wee', u'weed', u'week', u'weekdays', u'weekend', u'weekends', u'weekly', u'weeks', u'weigh', u'weighed', u'weight', u'weightloss', u'weird', u'weirdest', u'weirdo', u'weirdy', u'weiyi', u'welcome', u'welcomes', u'well', u'wellda', u'welp', u'wen', u'wendy', u'wenever', u'went', u'wenwecan', u'wer', u'were', u'werebored', u'weren', u'werethe', u'wesley', u'wesleys', u'west', u'western', u'westlife', u'westonzoyland', u'westshore', u'wet', u'wetherspoons', u'wewa', u'whassup', u'what', u'whatever', u'whats', u'whatsup', u'wheat', u'wheel', u'wheellock', u'when', u'whenever', u'whenevr', u'whens', u'where', u'whereare', u'wherever', u'wherevr', u'wherre', u'whether', u'which', u'while', u'whilltake', u'whispers', u'white', u'whn', u'who', u'whoever', u'whole', u'whom', u'whore', u'whos', u'whose', u'whr', u'why', u'wi', u'wicked', u'wicket', u'wicklow', u'wid', u'widelive', u'wif', u'wife', u'wifes', u'wifi', u'wihtuot', u'wikipedia', u'wil', u'wild', u'wildest', u'wildlife', u'will', u'willing', u'willpower', u'win', u'win150ppmx3age16', u'wind', u'window', u'windows', u'winds', u'windy', u'wine', u'wined', u'wings', u'wining', u'winner', u'winnersclub', u'winning', u'wins', u'winterstone', u'wipe', u'wipro', u'wire3', u'wisdom', u'wise', u'wish', u'wisheds', u'wishes', u'wishin', u'wishing', u'wishlist', u'wiskey', u'wit', u'with', u'withdraw', u'wither', u'within', u'without', u'witin', u'witot', u'witout', u'wiv', u'wizzle', u'wk', u'wkend', u'wkent', u'wkg', u'wkly', u'wknd', u'wks', u'wlcome', u'wld', u'wml', u'wn', u'wnevr', u'wnt', u'wo', u'woah', u'wocay', u'woke', u'woken', u'woman', u'womdarfull', u'women', u'won', u'wondar', u'wondarfull', u'wonder', u'wonderful', u'wondering', u'wonders', u'wont', u'woo', u'woodland', u'woods', u'woohoo', u'woot', u'woould', u'woozles', u'worc', u'word', u'words', u'work', u'workage', u'workand', u'workin', u'working', u'workout', u'works', u'world', u'worlds', u'worms', u'worried', u'worries', u'worry', u'worrying', u'worse', u'worst', u'worth', u'worthless', u'wot', u'wotu', u'wotz', u'woul', u'would', u'woulda', u'wouldn', u'wounds', u'wow', u'wrc', u'wrecked', u'wrench', u'wrenching', u'wright', u'write', u'writhing', u'wrk', u'wrkin', u'wrking', u'wrks', u'wrld', u'wrnog', u'wrong', u'wrongly', u'wrote', u'ws', u'wt', u'wtc', u'wtf', u'wth', u'wthout', u'wtlp', u'wud', u'wudn', u'wuld', u'wuldnt', u'wun', u'www', u'wylie', u'x2', u'x29', u'x49', u'xafter', u'xam', u'xavier', u'xchat', u'xclusive', u'xin', u'xmas', u'xoxo', u'xt', u'xuhui', u'xx', u'xxsp', u'xxuk', u'xxx', u'xxxmobilemovieclub', u'xxxx', u'xxxxx', u'xxxxxx', u'xxxxxxx', u'xxxxxxxx', u'xxxxxxxxxxxxxx', u'xy', u'y87', u'ya', u'yah', u'yahoo', u'yalrigu', u'yalru', u'yam', u'yan', u'yar', u'yarasu', u'yards', u'yavnt', u'yaxx', u'yaxxx', u'yay', u'yck', u'yeah', u'year', u'years', u'yeesh', u'yeh', u'yelling', u'yellow', u'yelow', u'yen', u'yeovil', u'yep', u'yer', u'yes', u'yest', u'yesterday', u'yet', u'yetty', u'yetunde', u'yhl', u'yi', u'yifeng', u'yijue', u'ym', u'ymca', u'yo', u'yoga', u'yogasana', u'yor', u'yorge', u'you', u'youdoing', u'youi', u'young', u'younger', u'youphone', u'your', u'youre', u'yourinclusive', u'yourjob', u'yours', u'yourself', u'youuuuu', u'youwanna', u'yoville', u'yowifes', u'yoyyooo', u'yr', u'yrs', u'ystrday', u'ything', u'yummmm', u'yummy', u'yun', u'yunny', u'yuo', u'yuou', u'yup', u'yupz', u'zac', u'zaher', u'zealand', u'zebra', u'zed', u'zeros', u'zhong', u'zindgi', u'zoe', u'zogtorius', u'zoom', u'zouk', u'zyada', u'\\xe8n', u'\\xfa1', u'\\u3028ud']\n"
     ]
    }
   ],
   "source": [
    "print(vect.get_feature_names())"
   ]
  },
  {
   "cell_type": "code",
   "execution_count": 33,
   "metadata": {
    "collapsed": true
   },
   "outputs": [],
   "source": [
    "# create a DataFrame of tokens with their separate ham and spam counts\n",
    "token_counts = pd.DataFrame({'token':all_tokens, 'ham':ham_counts, 'spam':spam_counts})"
   ]
  },
  {
   "cell_type": "code",
   "execution_count": 34,
   "metadata": {
    "collapsed": true
   },
   "outputs": [],
   "source": [
    "# add one to ham and spam counts to avoid dividing by zero (in the step that follows)\n",
    "token_counts['ham'] = token_counts.ham + 1\n",
    "token_counts['spam'] = token_counts.spam + 1"
   ]
  },
  {
   "cell_type": "code",
   "execution_count": 35,
   "metadata": {
    "collapsed": false
   },
   "outputs": [
    {
     "name": "stderr",
     "output_type": "stream",
     "text": [
      "/Users/jim_byers/anaconda/lib/python2.7/site-packages/ipykernel/__main__.py:3: FutureWarning: sort(columns=....) is deprecated, use sort_values(by=.....)\n",
      "  app.launch_new_instance()\n"
     ]
    },
    {
     "data": {
      "text/html": [
       "<div>\n",
       "<table border=\"1\" class=\"dataframe\">\n",
       "  <thead>\n",
       "    <tr style=\"text-align: right;\">\n",
       "      <th></th>\n",
       "      <th>ham</th>\n",
       "      <th>spam</th>\n",
       "      <th>token</th>\n",
       "      <th>spam_ratio</th>\n",
       "    </tr>\n",
       "  </thead>\n",
       "  <tbody>\n",
       "    <tr>\n",
       "      <th>3684</th>\n",
       "      <td>319</td>\n",
       "      <td>1</td>\n",
       "      <td>gt</td>\n",
       "      <td>0.003135</td>\n",
       "    </tr>\n",
       "    <tr>\n",
       "      <th>4793</th>\n",
       "      <td>317</td>\n",
       "      <td>1</td>\n",
       "      <td>lt</td>\n",
       "      <td>0.003155</td>\n",
       "    </tr>\n",
       "    <tr>\n",
       "      <th>3805</th>\n",
       "      <td>232</td>\n",
       "      <td>1</td>\n",
       "      <td>he</td>\n",
       "      <td>0.004310</td>\n",
       "    </tr>\n",
       "    <tr>\n",
       "      <th>6843</th>\n",
       "      <td>168</td>\n",
       "      <td>1</td>\n",
       "      <td>she</td>\n",
       "      <td>0.005952</td>\n",
       "    </tr>\n",
       "    <tr>\n",
       "      <th>4747</th>\n",
       "      <td>163</td>\n",
       "      <td>1</td>\n",
       "      <td>lor</td>\n",
       "      <td>0.006135</td>\n",
       "    </tr>\n",
       "    <tr>\n",
       "      <th>2428</th>\n",
       "      <td>151</td>\n",
       "      <td>1</td>\n",
       "      <td>da</td>\n",
       "      <td>0.006623</td>\n",
       "    </tr>\n",
       "    <tr>\n",
       "      <th>4550</th>\n",
       "      <td>136</td>\n",
       "      <td>1</td>\n",
       "      <td>later</td>\n",
       "      <td>0.007353</td>\n",
       "    </tr>\n",
       "    <tr>\n",
       "      <th>1247</th>\n",
       "      <td>90</td>\n",
       "      <td>1</td>\n",
       "      <td>ask</td>\n",
       "      <td>0.011111</td>\n",
       "    </tr>\n",
       "    <tr>\n",
       "      <th>6626</th>\n",
       "      <td>90</td>\n",
       "      <td>1</td>\n",
       "      <td>said</td>\n",
       "      <td>0.011111</td>\n",
       "    </tr>\n",
       "    <tr>\n",
       "      <th>2714</th>\n",
       "      <td>89</td>\n",
       "      <td>1</td>\n",
       "      <td>doing</td>\n",
       "      <td>0.011236</td>\n",
       "    </tr>\n",
       "    <tr>\n",
       "      <th>1084</th>\n",
       "      <td>89</td>\n",
       "      <td>1</td>\n",
       "      <td>amp</td>\n",
       "      <td>0.011236</td>\n",
       "    </tr>\n",
       "    <tr>\n",
       "      <th>5167</th>\n",
       "      <td>80</td>\n",
       "      <td>1</td>\n",
       "      <td>morning</td>\n",
       "      <td>0.012500</td>\n",
       "    </tr>\n",
       "    <tr>\n",
       "      <th>2163</th>\n",
       "      <td>231</td>\n",
       "      <td>3</td>\n",
       "      <td>come</td>\n",
       "      <td>0.012987</td>\n",
       "    </tr>\n",
       "    <tr>\n",
       "      <th>1142</th>\n",
       "      <td>77</td>\n",
       "      <td>1</td>\n",
       "      <td>anything</td>\n",
       "      <td>0.012987</td>\n",
       "    </tr>\n",
       "    <tr>\n",
       "      <th>2289</th>\n",
       "      <td>77</td>\n",
       "      <td>1</td>\n",
       "      <td>cos</td>\n",
       "      <td>0.012987</td>\n",
       "    </tr>\n",
       "    <tr>\n",
       "      <th>4724</th>\n",
       "      <td>75</td>\n",
       "      <td>1</td>\n",
       "      <td>lol</td>\n",
       "      <td>0.013333</td>\n",
       "    </tr>\n",
       "    <tr>\n",
       "      <th>7463</th>\n",
       "      <td>72</td>\n",
       "      <td>1</td>\n",
       "      <td>sure</td>\n",
       "      <td>0.013889</td>\n",
       "    </tr>\n",
       "    <tr>\n",
       "      <th>7099</th>\n",
       "      <td>70</td>\n",
       "      <td>1</td>\n",
       "      <td>something</td>\n",
       "      <td>0.014286</td>\n",
       "    </tr>\n",
       "    <tr>\n",
       "      <th>3690</th>\n",
       "      <td>68</td>\n",
       "      <td>1</td>\n",
       "      <td>gud</td>\n",
       "      <td>0.014706</td>\n",
       "    </tr>\n",
       "    <tr>\n",
       "      <th>3171</th>\n",
       "      <td>63</td>\n",
       "      <td>1</td>\n",
       "      <td>feel</td>\n",
       "      <td>0.015873</td>\n",
       "    </tr>\n",
       "    <tr>\n",
       "      <th>8394</th>\n",
       "      <td>63</td>\n",
       "      <td>1</td>\n",
       "      <td>went</td>\n",
       "      <td>0.015873</td>\n",
       "    </tr>\n",
       "    <tr>\n",
       "      <th>5371</th>\n",
       "      <td>63</td>\n",
       "      <td>1</td>\n",
       "      <td>nice</td>\n",
       "      <td>0.015873</td>\n",
       "    </tr>\n",
       "    <tr>\n",
       "      <th>3595</th>\n",
       "      <td>59</td>\n",
       "      <td>1</td>\n",
       "      <td>gonna</td>\n",
       "      <td>0.016949</td>\n",
       "    </tr>\n",
       "    <tr>\n",
       "      <th>7001</th>\n",
       "      <td>59</td>\n",
       "      <td>1</td>\n",
       "      <td>sleep</td>\n",
       "      <td>0.016949</td>\n",
       "    </tr>\n",
       "    <tr>\n",
       "      <th>1064</th>\n",
       "      <td>59</td>\n",
       "      <td>1</td>\n",
       "      <td>always</td>\n",
       "      <td>0.016949</td>\n",
       "    </tr>\n",
       "    <tr>\n",
       "      <th>5254</th>\n",
       "      <td>755</td>\n",
       "      <td>13</td>\n",
       "      <td>my</td>\n",
       "      <td>0.017219</td>\n",
       "    </tr>\n",
       "    <tr>\n",
       "      <th>5217</th>\n",
       "      <td>116</td>\n",
       "      <td>2</td>\n",
       "      <td>much</td>\n",
       "      <td>0.017241</td>\n",
       "    </tr>\n",
       "    <tr>\n",
       "      <th>5533</th>\n",
       "      <td>115</td>\n",
       "      <td>2</td>\n",
       "      <td>oh</td>\n",
       "      <td>0.017391</td>\n",
       "    </tr>\n",
       "    <tr>\n",
       "      <th>2815</th>\n",
       "      <td>56</td>\n",
       "      <td>1</td>\n",
       "      <td>dun</td>\n",
       "      <td>0.017857</td>\n",
       "    </tr>\n",
       "    <tr>\n",
       "      <th>3925</th>\n",
       "      <td>166</td>\n",
       "      <td>3</td>\n",
       "      <td>home</td>\n",
       "      <td>0.018072</td>\n",
       "    </tr>\n",
       "    <tr>\n",
       "      <th>...</th>\n",
       "      <td>...</td>\n",
       "      <td>...</td>\n",
       "      <td>...</td>\n",
       "      <td>...</td>\n",
       "    </tr>\n",
       "    <tr>\n",
       "      <th>1623</th>\n",
       "      <td>1</td>\n",
       "      <td>22</td>\n",
       "      <td>bonus</td>\n",
       "      <td>22.000000</td>\n",
       "    </tr>\n",
       "    <tr>\n",
       "      <th>3994</th>\n",
       "      <td>1</td>\n",
       "      <td>22</td>\n",
       "      <td>http</td>\n",
       "      <td>22.000000</td>\n",
       "    </tr>\n",
       "    <tr>\n",
       "      <th>6619</th>\n",
       "      <td>1</td>\n",
       "      <td>22</td>\n",
       "      <td>sae</td>\n",
       "      <td>22.000000</td>\n",
       "    </tr>\n",
       "    <tr>\n",
       "      <th>735</th>\n",
       "      <td>1</td>\n",
       "      <td>22</td>\n",
       "      <td>8007</td>\n",
       "      <td>22.000000</td>\n",
       "    </tr>\n",
       "    <tr>\n",
       "      <th>732</th>\n",
       "      <td>1</td>\n",
       "      <td>23</td>\n",
       "      <td>800</td>\n",
       "      <td>23.000000</td>\n",
       "    </tr>\n",
       "    <tr>\n",
       "      <th>5297</th>\n",
       "      <td>1</td>\n",
       "      <td>23</td>\n",
       "      <td>national</td>\n",
       "      <td>23.000000</td>\n",
       "    </tr>\n",
       "    <tr>\n",
       "      <th>8375</th>\n",
       "      <td>1</td>\n",
       "      <td>25</td>\n",
       "      <td>weekly</td>\n",
       "      <td>25.000000</td>\n",
       "    </tr>\n",
       "    <tr>\n",
       "      <th>8153</th>\n",
       "      <td>1</td>\n",
       "      <td>25</td>\n",
       "      <td>valid</td>\n",
       "      <td>25.000000</td>\n",
       "    </tr>\n",
       "    <tr>\n",
       "      <th>309</th>\n",
       "      <td>1</td>\n",
       "      <td>25</td>\n",
       "      <td>10p</td>\n",
       "      <td>25.000000</td>\n",
       "    </tr>\n",
       "    <tr>\n",
       "      <th>618</th>\n",
       "      <td>1</td>\n",
       "      <td>26</td>\n",
       "      <td>5000</td>\n",
       "      <td>26.000000</td>\n",
       "    </tr>\n",
       "    <tr>\n",
       "      <th>5117</th>\n",
       "      <td>1</td>\n",
       "      <td>26</td>\n",
       "      <td>mob</td>\n",
       "      <td>26.000000</td>\n",
       "    </tr>\n",
       "    <tr>\n",
       "      <th>364</th>\n",
       "      <td>2</td>\n",
       "      <td>54</td>\n",
       "      <td>16</td>\n",
       "      <td>27.000000</td>\n",
       "    </tr>\n",
       "    <tr>\n",
       "      <th>2150</th>\n",
       "      <td>1</td>\n",
       "      <td>27</td>\n",
       "      <td>collection</td>\n",
       "      <td>27.000000</td>\n",
       "    </tr>\n",
       "    <tr>\n",
       "      <th>7838</th>\n",
       "      <td>1</td>\n",
       "      <td>27</td>\n",
       "      <td>tones</td>\n",
       "      <td>27.000000</td>\n",
       "    </tr>\n",
       "    <tr>\n",
       "      <th>2963</th>\n",
       "      <td>1</td>\n",
       "      <td>27</td>\n",
       "      <td>entry</td>\n",
       "      <td>27.000000</td>\n",
       "    </tr>\n",
       "    <tr>\n",
       "      <th>1</th>\n",
       "      <td>1</td>\n",
       "      <td>30</td>\n",
       "      <td>000</td>\n",
       "      <td>30.000000</td>\n",
       "    </tr>\n",
       "    <tr>\n",
       "      <th>8596</th>\n",
       "      <td>3</td>\n",
       "      <td>99</td>\n",
       "      <td>www</td>\n",
       "      <td>33.000000</td>\n",
       "    </tr>\n",
       "    <tr>\n",
       "      <th>6525</th>\n",
       "      <td>1</td>\n",
       "      <td>33</td>\n",
       "      <td>ringtone</td>\n",
       "      <td>33.000000</td>\n",
       "    </tr>\n",
       "    <tr>\n",
       "      <th>356</th>\n",
       "      <td>1</td>\n",
       "      <td>35</td>\n",
       "      <td>150ppm</td>\n",
       "      <td>35.000000</td>\n",
       "    </tr>\n",
       "    <tr>\n",
       "      <th>8016</th>\n",
       "      <td>2</td>\n",
       "      <td>75</td>\n",
       "      <td>uk</td>\n",
       "      <td>37.500000</td>\n",
       "    </tr>\n",
       "    <tr>\n",
       "      <th>1333</th>\n",
       "      <td>1</td>\n",
       "      <td>39</td>\n",
       "      <td>awarded</td>\n",
       "      <td>39.000000</td>\n",
       "    </tr>\n",
       "    <tr>\n",
       "      <th>299</th>\n",
       "      <td>1</td>\n",
       "      <td>42</td>\n",
       "      <td>1000</td>\n",
       "      <td>42.000000</td>\n",
       "    </tr>\n",
       "    <tr>\n",
       "      <th>617</th>\n",
       "      <td>1</td>\n",
       "      <td>45</td>\n",
       "      <td>500</td>\n",
       "      <td>45.000000</td>\n",
       "    </tr>\n",
       "    <tr>\n",
       "      <th>2371</th>\n",
       "      <td>1</td>\n",
       "      <td>45</td>\n",
       "      <td>cs</td>\n",
       "      <td>45.000000</td>\n",
       "    </tr>\n",
       "    <tr>\n",
       "      <th>3688</th>\n",
       "      <td>1</td>\n",
       "      <td>51</td>\n",
       "      <td>guaranteed</td>\n",
       "      <td>51.000000</td>\n",
       "    </tr>\n",
       "    <tr>\n",
       "      <th>369</th>\n",
       "      <td>1</td>\n",
       "      <td>52</td>\n",
       "      <td>18</td>\n",
       "      <td>52.000000</td>\n",
       "    </tr>\n",
       "    <tr>\n",
       "      <th>7837</th>\n",
       "      <td>1</td>\n",
       "      <td>61</td>\n",
       "      <td>tone</td>\n",
       "      <td>61.000000</td>\n",
       "    </tr>\n",
       "    <tr>\n",
       "      <th>352</th>\n",
       "      <td>1</td>\n",
       "      <td>72</td>\n",
       "      <td>150p</td>\n",
       "      <td>72.000000</td>\n",
       "    </tr>\n",
       "    <tr>\n",
       "      <th>6113</th>\n",
       "      <td>1</td>\n",
       "      <td>94</td>\n",
       "      <td>prize</td>\n",
       "      <td>94.000000</td>\n",
       "    </tr>\n",
       "    <tr>\n",
       "      <th>2067</th>\n",
       "      <td>1</td>\n",
       "      <td>114</td>\n",
       "      <td>claim</td>\n",
       "      <td>114.000000</td>\n",
       "    </tr>\n",
       "  </tbody>\n",
       "</table>\n",
       "<p>8713 rows × 4 columns</p>\n",
       "</div>"
      ],
      "text/plain": [
       "      ham  spam       token  spam_ratio\n",
       "3684  319     1          gt    0.003135\n",
       "4793  317     1          lt    0.003155\n",
       "3805  232     1          he    0.004310\n",
       "6843  168     1         she    0.005952\n",
       "4747  163     1         lor    0.006135\n",
       "2428  151     1          da    0.006623\n",
       "4550  136     1       later    0.007353\n",
       "1247   90     1         ask    0.011111\n",
       "6626   90     1        said    0.011111\n",
       "2714   89     1       doing    0.011236\n",
       "1084   89     1         amp    0.011236\n",
       "5167   80     1     morning    0.012500\n",
       "2163  231     3        come    0.012987\n",
       "1142   77     1    anything    0.012987\n",
       "2289   77     1         cos    0.012987\n",
       "4724   75     1         lol    0.013333\n",
       "7463   72     1        sure    0.013889\n",
       "7099   70     1   something    0.014286\n",
       "3690   68     1         gud    0.014706\n",
       "3171   63     1        feel    0.015873\n",
       "8394   63     1        went    0.015873\n",
       "5371   63     1        nice    0.015873\n",
       "3595   59     1       gonna    0.016949\n",
       "7001   59     1       sleep    0.016949\n",
       "1064   59     1      always    0.016949\n",
       "5254  755    13          my    0.017219\n",
       "5217  116     2        much    0.017241\n",
       "5533  115     2          oh    0.017391\n",
       "2815   56     1         dun    0.017857\n",
       "3925  166     3        home    0.018072\n",
       "...   ...   ...         ...         ...\n",
       "1623    1    22       bonus   22.000000\n",
       "3994    1    22        http   22.000000\n",
       "6619    1    22         sae   22.000000\n",
       "735     1    22        8007   22.000000\n",
       "732     1    23         800   23.000000\n",
       "5297    1    23    national   23.000000\n",
       "8375    1    25      weekly   25.000000\n",
       "8153    1    25       valid   25.000000\n",
       "309     1    25         10p   25.000000\n",
       "618     1    26        5000   26.000000\n",
       "5117    1    26         mob   26.000000\n",
       "364     2    54          16   27.000000\n",
       "2150    1    27  collection   27.000000\n",
       "7838    1    27       tones   27.000000\n",
       "2963    1    27       entry   27.000000\n",
       "1       1    30         000   30.000000\n",
       "8596    3    99         www   33.000000\n",
       "6525    1    33    ringtone   33.000000\n",
       "356     1    35      150ppm   35.000000\n",
       "8016    2    75          uk   37.500000\n",
       "1333    1    39     awarded   39.000000\n",
       "299     1    42        1000   42.000000\n",
       "617     1    45         500   45.000000\n",
       "2371    1    45          cs   45.000000\n",
       "3688    1    51  guaranteed   51.000000\n",
       "369     1    52          18   52.000000\n",
       "7837    1    61        tone   61.000000\n",
       "352     1    72        150p   72.000000\n",
       "6113    1    94       prize   94.000000\n",
       "2067    1   114       claim  114.000000\n",
       "\n",
       "[8713 rows x 4 columns]"
      ]
     },
     "execution_count": 35,
     "metadata": {},
     "output_type": "execute_result"
    }
   ],
   "source": [
    "# calculate ratio of spam-to-ham for each token\n",
    "token_counts['spam_ratio'] = token_counts.spam / token_counts.ham\n",
    "token_counts.sort('spam_ratio')"
   ]
  },
  {
   "cell_type": "markdown",
   "metadata": {},
   "source": [
    "## Part 5: Building a Naive Bayes model\n",
    "\n",
    "We will use [Multinomial Naive Bayes](http://scikit-learn.org/stable/modules/generated/sklearn.naive_bayes.MultinomialNB.html):\n",
    "\n",
    "> The multinomial Naive Bayes classifier is suitable for classification with **discrete features** (e.g., word counts for text classification). The multinomial distribution normally requires integer feature counts. However, in practice, fractional counts such as tf-idf may also work."
   ]
  },
  {
   "cell_type": "code",
   "execution_count": 36,
   "metadata": {
    "collapsed": false
   },
   "outputs": [
    {
     "data": {
      "text/plain": [
       "MultinomialNB(alpha=1.0, class_prior=None, fit_prior=True)"
      ]
     },
     "execution_count": 36,
     "metadata": {},
     "output_type": "execute_result"
    }
   ],
   "source": [
    "# train a Naive Bayes model using X_train_dtm\n",
    "from sklearn.naive_bayes import MultinomialNB\n",
    "nb = MultinomialNB()\n",
    "nb.fit(X_train_dtm, y_train)"
   ]
  },
  {
   "cell_type": "code",
   "execution_count": 37,
   "metadata": {
    "collapsed": true
   },
   "outputs": [],
   "source": [
    "# make class predictions for X_test_dtm\n",
    "y_pred_class = nb.predict(X_test_dtm)"
   ]
  },
  {
   "cell_type": "code",
   "execution_count": 38,
   "metadata": {
    "collapsed": false
   },
   "outputs": [
    {
     "name": "stdout",
     "output_type": "stream",
     "text": [
      "0.988513998564\n"
     ]
    }
   ],
   "source": [
    "# calculate accuracy of class predictions\n",
    "from sklearn import metrics\n",
    "print metrics.accuracy_score(y_test, y_pred_class)"
   ]
  },
  {
   "cell_type": "code",
   "execution_count": 39,
   "metadata": {
    "collapsed": false
   },
   "outputs": [
    {
     "name": "stdout",
     "output_type": "stream",
     "text": [
      "[[1203    5]\n",
      " [  11  174]]\n"
     ]
    }
   ],
   "source": [
    "# confusion matrix\n",
    "print metrics.confusion_matrix(y_test, y_pred_class)"
   ]
  },
  {
   "cell_type": "code",
   "execution_count": 40,
   "metadata": {
    "collapsed": false
   },
   "outputs": [
    {
     "data": {
      "text/plain": [
       "array([  2.87744864e-03,   1.83488846e-05,   2.07301295e-03, ...,\n",
       "         1.09026171e-06,   1.00000000e+00,   3.98279868e-09])"
      ]
     },
     "execution_count": 40,
     "metadata": {},
     "output_type": "execute_result"
    }
   ],
   "source": [
    "# predict (poorly calibrated) probabilities\n",
    "y_pred_prob = nb.predict_proba(X_test_dtm)[:, 1]\n",
    "y_pred_prob"
   ]
  },
  {
   "cell_type": "code",
   "execution_count": 41,
   "metadata": {
    "collapsed": false
   },
   "outputs": [
    {
     "name": "stdout",
     "output_type": "stream",
     "text": [
      "0.986643100054\n"
     ]
    }
   ],
   "source": [
    "# calculate AUC\n",
    "print metrics.roc_auc_score(y_test, y_pred_prob)"
   ]
  },
  {
   "cell_type": "code",
   "execution_count": 42,
   "metadata": {
    "collapsed": false
   },
   "outputs": [
    {
     "data": {
      "text/plain": [
       "574               Waiting for your call.\n",
       "3375             Also andros ice etc etc\n",
       "45      No calls..messages..missed calls\n",
       "3415             No pic. Please re-send.\n",
       "1988    No calls..messages..missed calls\n",
       "Name: message, dtype: object"
      ]
     },
     "execution_count": 42,
     "metadata": {},
     "output_type": "execute_result"
    }
   ],
   "source": [
    "# print message text for the false positives\n",
    "X_test[y_test < y_pred_class]"
   ]
  },
  {
   "cell_type": "code",
   "execution_count": 43,
   "metadata": {
    "collapsed": false
   },
   "outputs": [
    {
     "data": {
      "text/plain": [
       "3132    LookAtMe!: Thanks for your purchase of a video...\n",
       "5       FreeMsg Hey there darling it's been 3 week's n...\n",
       "3530    Xmas & New Years Eve tickets are now on sale f...\n",
       "684     Hi I'm sue. I am 20 years old and work as a la...\n",
       "1875    Would you like to see my XXX pics they are so ...\n",
       "1893    CALL 09090900040 & LISTEN TO EXTREME DIRTY LIV...\n",
       "4298    thesmszone.com lets you send free anonymous an...\n",
       "4949    Hi this is Amy, we will be sending you a free ...\n",
       "2821    INTERFLORA - It's not too late to order Inter...\n",
       "2247    Hi ya babe x u 4goten bout me?' scammers getti...\n",
       "4514    Money i have won wining number 946 wot do i do...\n",
       "Name: message, dtype: object"
      ]
     },
     "execution_count": 43,
     "metadata": {},
     "output_type": "execute_result"
    }
   ],
   "source": [
    "# print message text for the false negatives\n",
    "X_test[y_test > y_pred_class]"
   ]
  },
  {
   "cell_type": "code",
   "execution_count": 44,
   "metadata": {
    "collapsed": false
   },
   "outputs": [
    {
     "data": {
      "text/plain": [
       "\"LookAtMe!: Thanks for your purchase of a video clip from LookAtMe!, you've been charged 35p. Think you can do better? Why not send a video in a MMSto 32323.\""
      ]
     },
     "execution_count": 44,
     "metadata": {},
     "output_type": "execute_result"
    }
   ],
   "source": [
    "# what do you notice about the false negatives?\n",
    "X_test[3132]"
   ]
  },
  {
   "cell_type": "markdown",
   "metadata": {},
   "source": [
    "## Part 6: Comparing Naive Bayes with logistic regression"
   ]
  },
  {
   "cell_type": "code",
   "execution_count": 45,
   "metadata": {
    "collapsed": false
   },
   "outputs": [
    {
     "data": {
      "text/plain": [
       "LogisticRegression(C=1000000000.0, class_weight=None, dual=False,\n",
       "          fit_intercept=True, intercept_scaling=1, max_iter=100,\n",
       "          multi_class='ovr', penalty='l2', random_state=None,\n",
       "          solver='liblinear', tol=0.0001, verbose=0)"
      ]
     },
     "execution_count": 45,
     "metadata": {},
     "output_type": "execute_result"
    }
   ],
   "source": [
    "# import/instantiate/fit\n",
    "from sklearn.linear_model import LogisticRegression\n",
    "logreg = LogisticRegression(C=1e9)\n",
    "logreg.fit(X_train_dtm, y_train)"
   ]
  },
  {
   "cell_type": "code",
   "execution_count": 46,
   "metadata": {
    "collapsed": true
   },
   "outputs": [],
   "source": [
    "# class predictions and predicted probabilities\n",
    "y_pred_class = logreg.predict(X_test_dtm)\n",
    "y_pred_prob = logreg.predict_proba(X_test_dtm)[:, 1]"
   ]
  },
  {
   "cell_type": "code",
   "execution_count": 47,
   "metadata": {
    "collapsed": false
   },
   "outputs": [
    {
     "name": "stdout",
     "output_type": "stream",
     "text": [
      "0.989231873654\n",
      "0.994144889923\n"
     ]
    }
   ],
   "source": [
    "# calculate accuracy and AUC\n",
    "print metrics.accuracy_score(y_test, y_pred_class)\n",
    "print metrics.roc_auc_score(y_test, y_pred_prob)"
   ]
  }
 ],
 "metadata": {
  "kernelspec": {
   "display_name": "Python 2",
   "language": "python",
   "name": "python2"
  },
  "language_info": {
   "codemirror_mode": {
    "name": "ipython",
    "version": 2
   },
   "file_extension": ".py",
   "mimetype": "text/x-python",
   "name": "python",
   "nbconvert_exporter": "python",
   "pygments_lexer": "ipython2",
   "version": "2.7.10"
  }
 },
 "nbformat": 4,
 "nbformat_minor": 0
}
